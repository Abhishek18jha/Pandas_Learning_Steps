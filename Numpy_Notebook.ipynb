{
 "cells": [
  {
   "cell_type": "markdown",
   "id": "3df16ad8-eb9d-47ac-840b-3a358b014b2a",
   "metadata": {},
   "source": [
    "## Panda Data Structures"
   ]
  },
  {
   "cell_type": "code",
   "execution_count": 2,
   "id": "8d1be3da-2678-4a09-8527-699501174b11",
   "metadata": {},
   "outputs": [],
   "source": [
    "import numpy as np"
   ]
  },
  {
   "cell_type": "code",
   "execution_count": 2,
   "id": "a3facc9f-1227-4d0b-bf06-65fce79046ed",
   "metadata": {},
   "outputs": [
    {
     "data": {
      "text/plain": [
       "array([0, 4, 1, 2, 3])"
      ]
     },
     "execution_count": 2,
     "metadata": {},
     "output_type": "execute_result"
    }
   ],
   "source": [
    "ar1 = np.array([0,4,1,2,3])\n",
    "ar1"
   ]
  },
  {
   "cell_type": "code",
   "execution_count": 3,
   "id": "875f9d11-9bbb-4b9e-8b9e-eefd8f8ab496",
   "metadata": {},
   "outputs": [
    {
     "data": {
      "text/plain": [
       "array([ 0,  4,  5,  7, 10], dtype=int32)"
      ]
     },
     "execution_count": 3,
     "metadata": {},
     "output_type": "execute_result"
    }
   ],
   "source": [
    "\n",
    "ar1.cumsum()\n"
   ]
  },
  {
   "cell_type": "markdown",
   "id": "59263d24-3c1d-4e3c-bf37-2cd985d6dfdc",
   "metadata": {},
   "source": [
    "### 2D- Array Creation"
   ]
  },
  {
   "cell_type": "code",
   "execution_count": 4,
   "id": "ef73e1d4-7a8f-430c-96e3-943a5ff9eed2",
   "metadata": {},
   "outputs": [
    {
     "data": {
      "text/plain": [
       "array([[0, 1, 2, 3, 4],\n",
       "       [0, 1, 2, 3, 4]])"
      ]
     },
     "execution_count": 4,
     "metadata": {},
     "output_type": "execute_result"
    }
   ],
   "source": [
    "ar2 = np.array([range(5),range(5)]) #2-D Array\n",
    "ar2"
   ]
  },
  {
   "cell_type": "markdown",
   "id": "472c8eac-2105-4973-9ba7-de82beee5daf",
   "metadata": {},
   "source": [
    "### Shape or no of row and columns in array"
   ]
  },
  {
   "cell_type": "code",
   "execution_count": 5,
   "id": "b707efb1-d6c5-4efb-8ddf-642bd9681de8",
   "metadata": {},
   "outputs": [
    {
     "name": "stdout",
     "output_type": "stream",
     "text": [
      "('Row', 'Col')\n",
      "(2, 5)\n"
     ]
    }
   ],
   "source": [
    "print((\"Row\",\"Col\"))\n",
    "print(ar2.shape)\n"
   ]
  },
  {
   "cell_type": "markdown",
   "id": "b13ebd1a-d061-4f5b-971b-cb51af46b933",
   "metadata": {},
   "source": [
    "### Dimension of Array"
   ]
  },
  {
   "cell_type": "code",
   "execution_count": 6,
   "id": "4efeaa73-34e2-487b-a12b-7d5f3d4c1658",
   "metadata": {},
   "outputs": [
    {
     "data": {
      "text/plain": [
       "2"
      ]
     },
     "execution_count": 6,
     "metadata": {},
     "output_type": "execute_result"
    }
   ],
   "source": [
    "ar2.ndim"
   ]
  },
  {
   "cell_type": "markdown",
   "id": "f0ce27e0-66f7-442f-941e-2054677e9def",
   "metadata": {},
   "source": [
    "### Range of value of n size or from n1 to n2 spaced at a distance"
   ]
  },
  {
   "cell_type": "code",
   "execution_count": 7,
   "id": "8784c614-b17a-4af9-8fa2-d68134766ef2",
   "metadata": {},
   "outputs": [
    {
     "data": {
      "text/plain": [
       "array([ 0,  1,  2,  3,  4,  5,  6,  7,  8,  9, 10, 11])"
      ]
     },
     "execution_count": 7,
     "metadata": {},
     "output_type": "execute_result"
    }
   ],
   "source": [
    "ar3 = np.arange(12)\n",
    "ar3"
   ]
  },
  {
   "cell_type": "code",
   "execution_count": 8,
   "id": "952b33a3-eda3-4cd6-88bc-c929e44f1a22",
   "metadata": {},
   "outputs": [
    {
     "data": {
      "text/plain": [
       "array([ 3,  6,  9, 12, 15, 18, 21, 24, 27, 30, 33, 36, 39])"
      ]
     },
     "execution_count": 8,
     "metadata": {},
     "output_type": "execute_result"
    }
   ],
   "source": [
    "ar4 = np.arange(3,40,3)\n",
    "ar4"
   ]
  },
  {
   "cell_type": "markdown",
   "id": "2c10e9bf-9fd6-491a-bf6c-f5c3bdd83646",
   "metadata": {},
   "source": [
    "### Linear Spaced 20 values from 0 to 1"
   ]
  },
  {
   "cell_type": "code",
   "execution_count": 9,
   "id": "9dc2ac10-e41d-483e-acfe-7a9af6a3a68c",
   "metadata": {},
   "outputs": [
    {
     "data": {
      "text/plain": [
       "array([0.        , 0.05263158, 0.10526316, 0.15789474, 0.21052632,\n",
       "       0.26315789, 0.31578947, 0.36842105, 0.42105263, 0.47368421,\n",
       "       0.52631579, 0.57894737, 0.63157895, 0.68421053, 0.73684211,\n",
       "       0.78947368, 0.84210526, 0.89473684, 0.94736842, 1.        ])"
      ]
     },
     "execution_count": 9,
     "metadata": {},
     "output_type": "execute_result"
    }
   ],
   "source": [
    "ar5 = np.linspace(0,3.0/3,20) \n",
    "ar5"
   ]
  },
  {
   "cell_type": "markdown",
   "id": "17c84cdc-832c-4e0d-9703-33b660d8c467",
   "metadata": {},
   "source": [
    "### Random Array"
   ]
  },
  {
   "cell_type": "code",
   "execution_count": 10,
   "id": "6b20479f-00aa-46a3-8872-3734c9bebcf8",
   "metadata": {},
   "outputs": [
    {
     "data": {
      "text/plain": [
       "array([ 92.95425488,  73.70451323,  28.69354844,  14.8039133 ,\n",
       "        34.68537293,  97.14371973,  17.44223479,  56.42906153,\n",
       "        95.87968366, 183.95154111, 124.23502657,  21.11960408,\n",
       "        61.41597594,  46.17370041,  21.51293672,  86.22793143,\n",
       "       280.57487503,  23.96324315,  92.42555419,  21.19441315])"
      ]
     },
     "execution_count": 10,
     "metadata": {},
     "output_type": "execute_result"
    }
   ],
   "source": [
    "np.random.seed()\n",
    "rnad = abs(np.random.randn(20)*100)\n",
    "rnad"
   ]
  },
  {
   "cell_type": "markdown",
   "id": "bf2d0c32-e113-4bb6-961b-5dfdead405cd",
   "metadata": {},
   "source": [
    "### Numpy Ones Matrix of any dimension"
   ]
  },
  {
   "cell_type": "code",
   "execution_count": 11,
   "id": "af40cf0d-5fe0-465f-ace2-6b5f1fd9a366",
   "metadata": {},
   "outputs": [
    {
     "data": {
      "text/plain": [
       "array([[[1., 1., 1., 1.]],\n",
       "\n",
       "       [[1., 1., 1., 1.]],\n",
       "\n",
       "       [[1., 1., 1., 1.]],\n",
       "\n",
       "       [[1., 1., 1., 1.]],\n",
       "\n",
       "       [[1., 1., 1., 1.]]])"
      ]
     },
     "execution_count": 11,
     "metadata": {},
     "output_type": "execute_result"
    }
   ],
   "source": [
    "ar6 = np.ones((5,1,4))\n",
    "ar6.shape\n",
    "ar6"
   ]
  },
  {
   "cell_type": "markdown",
   "id": "e7e24d83-8ae1-4699-bec8-b230b0cfdea8",
   "metadata": {},
   "source": [
    "### Zeros Array"
   ]
  },
  {
   "cell_type": "code",
   "execution_count": 12,
   "id": "68eb9583-aeb2-4089-9fc6-b87a7651494a",
   "metadata": {},
   "outputs": [
    {
     "data": {
      "text/plain": [
       "array([[0., 0.],\n",
       "       [0., 0.],\n",
       "       [0., 0.],\n",
       "       [0., 0.]])"
      ]
     },
     "execution_count": 12,
     "metadata": {},
     "output_type": "execute_result"
    }
   ],
   "source": [
    "ar8 = np.zeros((4,2))\n",
    "ar8"
   ]
  },
  {
   "cell_type": "markdown",
   "id": "2e06b37b-c83f-42e9-bbde-cdf8456a8819",
   "metadata": {},
   "source": [
    "### Identity Array"
   ]
  },
  {
   "cell_type": "code",
   "execution_count": 13,
   "id": "cf2fefa2-8c60-4eb1-85a8-598be3dd7c9b",
   "metadata": {},
   "outputs": [
    {
     "data": {
      "text/plain": [
       "array([[1., 0., 0., 0.],\n",
       "       [0., 1., 0., 0.],\n",
       "       [0., 0., 1., 0.],\n",
       "       [0., 0., 0., 1.]])"
      ]
     },
     "execution_count": 13,
     "metadata": {},
     "output_type": "execute_result"
    }
   ],
   "source": [
    "ar9 = np.eye(4)\n",
    "ar9"
   ]
  },
  {
   "cell_type": "markdown",
   "id": "a94f7316-2220-4181-936e-f08d09597321",
   "metadata": {},
   "source": [
    "### Diagonal array"
   ]
  },
  {
   "cell_type": "code",
   "execution_count": 14,
   "id": "8c080400-85b7-4c17-ac7c-3d3a72399446",
   "metadata": {},
   "outputs": [
    {
     "data": {
      "text/plain": [
       "array([[2, 0, 0, 0],\n",
       "       [0, 1, 0, 0],\n",
       "       [0, 0, 4, 0],\n",
       "       [0, 0, 0, 6]])"
      ]
     },
     "execution_count": 14,
     "metadata": {},
     "output_type": "execute_result"
    }
   ],
   "source": [
    "ar10 = np.diag((2,1,4,6))\n",
    "ar10"
   ]
  },
  {
   "cell_type": "markdown",
   "id": "8cf8c3b9-7697-4d47-8b9f-268c22223380",
   "metadata": {},
   "source": [
    "### Random array"
   ]
  },
  {
   "cell_type": "code",
   "execution_count": 15,
   "id": "0517eb2d-3e28-4253-bbeb-3493c16f7454",
   "metadata": {},
   "outputs": [
    {
     "data": {
      "text/plain": [
       "array([0.34182023, 0.28134786, 0.69962996])"
      ]
     },
     "execution_count": 15,
     "metadata": {},
     "output_type": "execute_result"
    }
   ],
   "source": [
    "ar11 = np.random.rand(3)\n",
    "ar11"
   ]
  },
  {
   "cell_type": "markdown",
   "id": "149a9ded-1496-4467-95b5-caeee3af69c8",
   "metadata": {},
   "source": [
    "### Uninitialized Array or Empty Error"
   ]
  },
  {
   "cell_type": "code",
   "execution_count": 16,
   "id": "05a3591e-fa74-425b-a407-929fda86df7e",
   "metadata": {},
   "outputs": [
    {
     "data": {
      "text/plain": [
       "array([[0.e+000, 0.e+000, 0.e+000, 0.e+000, 0.e+000, 0.e+000],\n",
       "       [0.e+000, 0.e+000, 0.e+000, 0.e+000, 0.e+000, 5.e-324],\n",
       "       [0.e+000, 0.e+000, 0.e+000, 0.e+000, 0.e+000, 0.e+000]])"
      ]
     },
     "execution_count": 16,
     "metadata": {},
     "output_type": "execute_result"
    }
   ],
   "source": [
    "ar13 = np.empty((3,6))\n",
    "ar13"
   ]
  },
  {
   "cell_type": "markdown",
   "id": "2345e6bd-6424-4ccb-b789-68d19b1ed3b1",
   "metadata": {},
   "source": [
    "### Tiling big array from smalller array"
   ]
  },
  {
   "cell_type": "markdown",
   "id": "14cd69bb-859e-490c-ac09-0546f8ccc8b8",
   "metadata": {},
   "source": [
    "#### Horizontal tiling"
   ]
  },
  {
   "cell_type": "code",
   "execution_count": 17,
   "id": "04675c4f-a5ca-456a-b8c8-c593519ddd72",
   "metadata": {},
   "outputs": [
    {
     "data": {
      "text/plain": [
       "array([[1, 2, 1, 2, 1, 2, 1, 2, 1, 2],\n",
       "       [6, 7, 6, 7, 6, 7, 6, 7, 6, 7]])"
      ]
     },
     "execution_count": 17,
     "metadata": {},
     "output_type": "execute_result"
    }
   ],
   "source": [
    "np.tile(np.array([[1,2],[6,7]]),(5))  "
   ]
  },
  {
   "cell_type": "markdown",
   "id": "01e6ee57-7308-466a-8f3a-6b4f0d07b3d6",
   "metadata": {},
   "source": [
    "#### Array like Tiling"
   ]
  },
  {
   "cell_type": "code",
   "execution_count": 18,
   "id": "3b29fada-8d53-4278-b2bc-c5dc21f6bec7",
   "metadata": {},
   "outputs": [
    {
     "data": {
      "text/plain": [
       "array([[1, 2, 1, 2, 1, 2, 1, 2],\n",
       "       [6, 7, 6, 7, 6, 7, 6, 7],\n",
       "       [1, 2, 1, 2, 1, 2, 1, 2],\n",
       "       [6, 7, 6, 7, 6, 7, 6, 7]])"
      ]
     },
     "execution_count": 18,
     "metadata": {},
     "output_type": "execute_result"
    }
   ],
   "source": [
    "np.tile(np.array([[1,2],[6,7]]),(2,4)) "
   ]
  },
  {
   "cell_type": "markdown",
   "id": "850b230b-5d68-45d4-9b94-db995a350fda",
   "metadata": {},
   "source": [
    "### Datatype of content defining and finding"
   ]
  },
  {
   "cell_type": "code",
   "execution_count": 19,
   "id": "37a96775-f765-4f4f-9fac-8a0ad047a5c2",
   "metadata": {},
   "outputs": [
    {
     "data": {
      "text/plain": [
       "array([ 2.  , -1.  ,  6.  ,  3.34])"
      ]
     },
     "execution_count": 19,
     "metadata": {},
     "output_type": "execute_result"
    }
   ],
   "source": [
    "ar = np.array([2,-1,6,3.34],dtype ='float')\n",
    "ar"
   ]
  },
  {
   "cell_type": "code",
   "execution_count": 20,
   "id": "fae55f4c-9a80-4cc4-beb1-3362c9f09984",
   "metadata": {},
   "outputs": [
    {
     "data": {
      "text/plain": [
       "dtype('float64')"
      ]
     },
     "execution_count": 20,
     "metadata": {},
     "output_type": "execute_result"
    }
   ],
   "source": [
    "ar.dtype"
   ]
  },
  {
   "cell_type": "code",
   "execution_count": 21,
   "id": "3addf9a7-6011-4424-9c30-67ef92857aca",
   "metadata": {},
   "outputs": [
    {
     "data": {
      "text/plain": [
       "dtype('int32')"
      ]
     },
     "execution_count": 21,
     "metadata": {},
     "output_type": "execute_result"
    }
   ],
   "source": [
    "ar = np.array([2,-1,6,3])\n",
    "ar.dtype"
   ]
  },
  {
   "cell_type": "code",
   "execution_count": 22,
   "id": "5daafb3a-ed63-4a57-a57e-ef287086b5ea",
   "metadata": {},
   "outputs": [
    {
     "data": {
      "text/plain": [
       "dtype('float64')"
      ]
     },
     "execution_count": 22,
     "metadata": {},
     "output_type": "execute_result"
    }
   ],
   "source": [
    "ar = np.array([2,-1,6,3.34])\n",
    "ar.dtype"
   ]
  },
  {
   "cell_type": "code",
   "execution_count": 23,
   "id": "c2e52bf6-8892-4ce2-ad53-e3720a90efbb",
   "metadata": {},
   "outputs": [
    {
     "data": {
      "text/plain": [
       "array(['Goodbye', 'Welcome', 'Tata', 'Goodnight'], dtype='<U9')"
      ]
     },
     "execution_count": 23,
     "metadata": {},
     "output_type": "execute_result"
    }
   ],
   "source": [
    "sar = np.array(['Goodbye','Welcome','Tata','Goodnight'])\n",
    "sar"
   ]
  },
  {
   "cell_type": "code",
   "execution_count": 24,
   "id": "2633ef6e-1655-49e4-80d9-82edacba69cc",
   "metadata": {},
   "outputs": [
    {
     "data": {
      "text/plain": [
       "dtype('<U9')"
      ]
     },
     "execution_count": 24,
     "metadata": {},
     "output_type": "execute_result"
    }
   ],
   "source": [
    "sar.dtype\n"
   ]
  },
  {
   "cell_type": "code",
   "execution_count": 25,
   "id": "8bc0d896-da65-4863-8ff2-d47c64e898e2",
   "metadata": {},
   "outputs": [
    {
     "data": {
      "text/plain": [
       "array([b'Goodbye', b'Welcome', b'Tata', b'Goodnight'], dtype='|S9')"
      ]
     },
     "execution_count": 25,
     "metadata": {},
     "output_type": "execute_result"
    }
   ],
   "source": [
    "sar.astype('S9')"
   ]
  },
  {
   "cell_type": "code",
   "execution_count": null,
   "id": "cf6199fd-a1bc-40c0-9d03-5e3dafe9e7cb",
   "metadata": {},
   "outputs": [],
   "source": []
  },
  {
   "cell_type": "markdown",
   "id": "08875c51-73a0-4350-a5eb-2ab5c398f282",
   "metadata": {},
   "source": [
    "### Numpy indexing Slicing"
   ]
  },
  {
   "cell_type": "code",
   "execution_count": 26,
   "id": "4a75f14d-70f9-4b4f-aa4d-138c69903bca",
   "metadata": {},
   "outputs": [
    {
     "name": "stdout",
     "output_type": "stream",
     "text": [
      "[0 1 2 3 4]\n",
      "First Element 0. Last Element 4\n"
     ]
    }
   ],
   "source": [
    "ar = np.arange(5)\n",
    "print(ar)\n",
    "print('First Element {}. Last Element {}'.format(ar[0],ar[-1]))\n"
   ]
  },
  {
   "cell_type": "markdown",
   "id": "7dfeb246-03b5-49a7-b07c-1c674515f6a8",
   "metadata": {},
   "source": [
    "#### Reverse Order Array"
   ]
  },
  {
   "cell_type": "code",
   "execution_count": 27,
   "id": "abc6e33e-301e-4b56-b4bd-59d0741098d4",
   "metadata": {},
   "outputs": [
    {
     "data": {
      "text/plain": [
       "array([4, 3, 2, 1, 0])"
      ]
     },
     "execution_count": 27,
     "metadata": {},
     "output_type": "execute_result"
    }
   ],
   "source": [
    "ar[::-1]"
   ]
  },
  {
   "cell_type": "markdown",
   "id": "abba39b1-086c-4fee-a542-856106d3e3dd",
   "metadata": {},
   "source": [
    "#### Multidimensional Array Slicing"
   ]
  },
  {
   "cell_type": "code",
   "execution_count": 28,
   "id": "176d0e9f-e6ae-4900-a182-bf8d8467b342",
   "metadata": {},
   "outputs": [
    {
     "data": {
      "text/plain": [
       "array([[ 2,  3,  4],\n",
       "       [ 9,  8,  7],\n",
       "       [11, 12, 13]])"
      ]
     },
     "execution_count": 28,
     "metadata": {},
     "output_type": "execute_result"
    }
   ],
   "source": [
    "ar = np.array([[2,3,4],[9,8,7],[11,12,13]])\n",
    "ar"
   ]
  },
  {
   "cell_type": "markdown",
   "id": "b3faef8b-1a86-439b-9082-5e01439d0b37",
   "metadata": {},
   "source": [
    "### Multidimensional Array indexed"
   ]
  },
  {
   "cell_type": "code",
   "execution_count": 29,
   "id": "1061529c-2547-43bd-a0f0-88602816569f",
   "metadata": {},
   "outputs": [
    {
     "data": {
      "text/plain": [
       "9"
      ]
     },
     "execution_count": 29,
     "metadata": {},
     "output_type": "execute_result"
    }
   ],
   "source": [
    "ar[1,0]\n"
   ]
  },
  {
   "cell_type": "markdown",
   "id": "de614eab-6507-47b5-99f4-dc9ee758771f",
   "metadata": {},
   "source": [
    "#### Set the entry at row and column "
   ]
  },
  {
   "cell_type": "code",
   "execution_count": 30,
   "id": "7af5e50a-7fd4-4060-9c14-432d20648e41",
   "metadata": {},
   "outputs": [
    {
     "data": {
      "text/plain": [
       "array([[ 2,  3,  4],\n",
       "       [ 9,  5,  5],\n",
       "       [11, 12, 13]])"
      ]
     },
     "execution_count": 30,
     "metadata": {},
     "output_type": "execute_result"
    }
   ],
   "source": [
    "ar[1,1:]=5\n",
    "ar"
   ]
  },
  {
   "cell_type": "code",
   "execution_count": 31,
   "id": "253bb761-22bc-4aa5-8c47-776593d78f5e",
   "metadata": {},
   "outputs": [
    {
     "data": {
      "text/plain": [
       "array([11, 12, 13])"
      ]
     },
     "execution_count": 31,
     "metadata": {},
     "output_type": "execute_result"
    }
   ],
   "source": [
    "  ar[2] # Retrieve Row"
   ]
  },
  {
   "cell_type": "code",
   "execution_count": 32,
   "id": "686dea57-4222-44f7-9fb4-488c6dd807d2",
   "metadata": {},
   "outputs": [
    {
     "data": {
      "text/plain": [
       "array([ 4,  5, 13])"
      ]
     },
     "execution_count": 32,
     "metadata": {},
     "output_type": "execute_result"
    }
   ],
   "source": [
    "ar[:,2] # Retrieve Col"
   ]
  },
  {
   "cell_type": "code",
   "execution_count": 33,
   "id": "a657223d-0e6f-448d-a278-9e0a45738081",
   "metadata": {},
   "outputs": [
    {
     "data": {
      "text/plain": [
       "array([ 0,  2,  4,  6,  8, 10])"
      ]
     },
     "execution_count": 33,
     "metadata": {},
     "output_type": "execute_result"
    }
   ],
   "source": [
    "ar =2*np.arange(6)\n",
    "ar"
   ]
  },
  {
   "cell_type": "code",
   "execution_count": 34,
   "id": "df013a2d-ee71-4ed4-94ed-8a2d9e3ae62c",
   "metadata": {},
   "outputs": [
    {
     "data": {
      "text/plain": [
       "array([ 2,  6, 10])"
      ]
     },
     "execution_count": 34,
     "metadata": {},
     "output_type": "execute_result"
    }
   ],
   "source": [
    "ar[1:6:2]"
   ]
  },
  {
   "cell_type": "code",
   "execution_count": 35,
   "id": "4c5ccce2-7c01-4346-ae3d-e329c8f37575",
   "metadata": {},
   "outputs": [
    {
     "data": {
      "text/plain": [
       "array([0, 2, 4, 6])"
      ]
     },
     "execution_count": 35,
     "metadata": {},
     "output_type": "execute_result"
    }
   ],
   "source": [
    " ar[:4] # obtain first n element"
   ]
  },
  {
   "cell_type": "code",
   "execution_count": 36,
   "id": "bf101d7a-c0aa-4fe0-a094-c7bcca9222f6",
   "metadata": {},
   "outputs": [
    {
     "data": {
      "text/plain": [
       "array([ 8, 10])"
      ]
     },
     "execution_count": 36,
     "metadata": {},
     "output_type": "execute_result"
    }
   ],
   "source": [
    "ar[4:] # Start at n until end"
   ]
  },
  {
   "cell_type": "code",
   "execution_count": 37,
   "id": "d5330ddd-1e7b-48d6-b6a2-d787ea9d01b1",
   "metadata": {},
   "outputs": [
    {
     "data": {
      "text/plain": [
       "array([0, 4, 8])"
      ]
     },
     "execution_count": 37,
     "metadata": {},
     "output_type": "execute_result"
    }
   ],
   "source": [
    "ar[::2] #Slice array with step value"
   ]
  },
  {
   "cell_type": "markdown",
   "id": "79f58fc9-dbd7-40c8-b954-bdfa0b5e857a",
   "metadata": {},
   "source": [
    "### Array Masking or Simply Select or Filter Out Elements"
   ]
  },
  {
   "cell_type": "code",
   "execution_count": 38,
   "id": "ff63e7ac-1f11-44e5-a605-ef1175a37700",
   "metadata": {},
   "outputs": [
    {
     "name": "stdout",
     "output_type": "stream",
     "text": [
      "[ 9  4 15  0 17 25 16 17  8  9]\n",
      "(array([ 9, 15, 17, 25, 17,  9]), array([ 4,  0, 16,  8]))\n"
     ]
    },
    {
     "name": "stderr",
     "output_type": "stream",
     "text": [
      "C:\\Users\\Dell\\AppData\\Local\\Temp/ipykernel_1160/1055730347.py:3: DeprecationWarning: This function is deprecated. Please call randint(0, 25 + 1) instead\n",
      "  ar =np.random.random_integers(0,25,10)\n"
     ]
    }
   ],
   "source": [
    "np.random.seed(10)\n",
    "\n",
    "ar =np.random.random_integers(0,25,10)\n",
    "OddMask = ~(ar%2 ==0)\n",
    "evenMask = (ar%2 ==0)\n",
    "print(ar)\n",
    "print((ar[OddMask],ar[evenMask]))\n"
   ]
  },
  {
   "cell_type": "code",
   "execution_count": 39,
   "id": "eeea26f5-61e9-49c9-a6d5-9b1cefac284d",
   "metadata": {},
   "outputs": [
    {
     "data": {
      "text/plain": [
       "array(['Hungary', 'Country Change', 'India', 'Country Change',\n",
       "       'United Kingdom', 'Country Change', 'China'], dtype='<U14')"
      ]
     },
     "execution_count": 39,
     "metadata": {},
     "output_type": "execute_result"
    }
   ],
   "source": [
    "ar = np.array([\"Hungary\",\"Nigeria\",\"India\",\"Sri Lanka\",\"United Kingdom\", \" \",\"China\"])\n",
    "ar[ar==' ']='USA'\n",
    "ar[[1,3,5]] ='Country Changed'\n",
    "ar\n",
    "               "
   ]
  },
  {
   "cell_type": "markdown",
   "id": "41ea3bd4-819d-49e9-8c22-d34d9ddeeb55",
   "metadata": {},
   "source": [
    "### Complex Indexing"
   ]
  },
  {
   "cell_type": "code",
   "execution_count": 40,
   "id": "b835e519-d93e-4b63-b810-92ef9997b3a4",
   "metadata": {},
   "outputs": [
    {
     "data": {
      "text/plain": [
       "array([ 0,  1,  2,  3,  4,  5,  6,  7,  8,  9, 10, 11, 12, 13, 14])"
      ]
     },
     "execution_count": 40,
     "metadata": {},
     "output_type": "execute_result"
    }
   ],
   "source": [
    "ar =np.arange(15)\n",
    "ar"
   ]
  },
  {
   "cell_type": "code",
   "execution_count": 41,
   "id": "f59b9fc5-f36e-4283-a8b9-05cf4340278c",
   "metadata": {},
   "outputs": [
    {
     "data": {
      "text/plain": [
       "array([-9, -8, -7, -6, -5, -4, -3, -2, -1,  0])"
      ]
     },
     "execution_count": 41,
     "metadata": {},
     "output_type": "execute_result"
    }
   ],
   "source": [
    "ar2 =np.arange(0,-10,-1)[::-1]\n",
    "ar2"
   ]
  },
  {
   "cell_type": "code",
   "execution_count": 42,
   "id": "e9effd67-c2c3-4340-8a8e-b4588348c14e",
   "metadata": {},
   "outputs": [
    {
     "data": {
      "text/plain": [
       "array([-9, -8, -7, -6, -5, -4, -3, -2, -1,  0, 10, 11, 12, 13, 14])"
      ]
     },
     "execution_count": 42,
     "metadata": {},
     "output_type": "execute_result"
    }
   ],
   "source": [
    "ar[:10]=ar2\n",
    "ar\n"
   ]
  },
  {
   "cell_type": "markdown",
   "id": "9f5505c1-91fc-4435-ba26-0f84ca9e52c1",
   "metadata": {},
   "source": [
    "## Basic Operations"
   ]
  },
  {
   "cell_type": "code",
   "execution_count": 43,
   "id": "dac9a17b-a24b-48ec-aa21-a88720796f40",
   "metadata": {},
   "outputs": [
    {
     "data": {
      "text/plain": [
       "array([ 0,  5, 10, 15, 20, 25, 30])"
      ]
     },
     "execution_count": 43,
     "metadata": {},
     "output_type": "execute_result"
    }
   ],
   "source": [
    "ar = np.arange(0,7)*5\n",
    "ar"
   ]
  },
  {
   "cell_type": "code",
   "execution_count": 44,
   "id": "6656ff57-0e5c-4bfb-8f19-e96492a1efc9",
   "metadata": {},
   "outputs": [
    {
     "data": {
      "text/plain": [
       "array([  0,   1,  16,  81, 256], dtype=int32)"
      ]
     },
     "execution_count": 44,
     "metadata": {},
     "output_type": "execute_result"
    }
   ],
   "source": [
    "ar = np.arange(5)**4\n",
    "ar"
   ]
  },
  {
   "cell_type": "code",
   "execution_count": 45,
   "id": "c784958a-0327-4357-a99c-88ffad58ebf8",
   "metadata": {},
   "outputs": [
    {
     "data": {
      "text/plain": [
       "array([ 0.,  1.,  4.,  9., 16.])"
      ]
     },
     "execution_count": 45,
     "metadata": {},
     "output_type": "execute_result"
    }
   ],
   "source": [
    "ar**0.5"
   ]
  },
  {
   "cell_type": "code",
   "execution_count": 46,
   "id": "e0ef4e41-bfaa-4d1b-9710-2df4a0ff570d",
   "metadata": {},
   "outputs": [
    {
     "data": {
      "text/plain": [
       "array([ 3,  6,  9, 12, 15, 18, 21, 24, 27, 30])"
      ]
     },
     "execution_count": 46,
     "metadata": {},
     "output_type": "execute_result"
    }
   ],
   "source": [
    "ar = 3+np.arange(0,30,3)\n",
    "ar"
   ]
  },
  {
   "cell_type": "code",
   "execution_count": 47,
   "id": "7c9a2fe3-2c13-490e-90c1-96c8fa2956fa",
   "metadata": {},
   "outputs": [
    {
     "data": {
      "text/plain": [
       "array([ 1,  2,  3,  4,  5,  6,  7,  8,  9, 10])"
      ]
     },
     "execution_count": 47,
     "metadata": {},
     "output_type": "execute_result"
    }
   ],
   "source": [
    "ar1 = np.arange(1,11)\n",
    "ar1\n"
   ]
  },
  {
   "cell_type": "code",
   "execution_count": 48,
   "id": "89ccda88-72a1-4e7a-8cfa-6741a42a083d",
   "metadata": {},
   "outputs": [
    {
     "data": {
      "text/plain": [
       "array([ 2,  4,  6,  8, 10, 12, 14, 16, 18, 20])"
      ]
     },
     "execution_count": 48,
     "metadata": {},
     "output_type": "execute_result"
    }
   ],
   "source": [
    "ar - ar1"
   ]
  },
  {
   "cell_type": "code",
   "execution_count": 49,
   "id": "aaf18bfa-3ae3-4637-9065-9270983417ac",
   "metadata": {},
   "outputs": [
    {
     "data": {
      "text/plain": [
       "array([3., 3., 3., 3., 3., 3., 3., 3., 3., 3.])"
      ]
     },
     "execution_count": 49,
     "metadata": {},
     "output_type": "execute_result"
    }
   ],
   "source": [
    "ar/ar1"
   ]
  },
  {
   "cell_type": "code",
   "execution_count": 50,
   "id": "d708b8bf-a148-4ac1-8a69-598e8586a6a3",
   "metadata": {},
   "outputs": [
    {
     "data": {
      "text/plain": [
       "array([  3,  12,  27,  48,  75, 108, 147, 192, 243, 300])"
      ]
     },
     "execution_count": 50,
     "metadata": {},
     "output_type": "execute_result"
    }
   ],
   "source": [
    "ar*ar1"
   ]
  },
  {
   "cell_type": "code",
   "execution_count": 13,
   "id": "67a47a59-257a-493e-8103-9ee1282d5736",
   "metadata": {},
   "outputs": [
    {
     "name": "stdout",
     "output_type": "stream",
     "text": [
      "330 µs ± 1.64 µs per loop (mean ± std. dev. of 7 runs, 1000 loops each)\n"
     ]
    }
   ],
   "source": [
    "ar = np.arange(1000)\n",
    "ar1 = range(1000)\n",
    "%timeit [ar1[i]**3 for i in ar1]\n"
   ]
  },
  {
   "cell_type": "code",
   "execution_count": 15,
   "id": "a83d92b3-ee19-423e-a704-2cea914f7473",
   "metadata": {},
   "outputs": [
    {
     "name": "stdout",
     "output_type": "stream",
     "text": [
      "2.65 µs ± 8.58 ns per loop (mean ± std. dev. of 7 runs, 100000 loops each)\n"
     ]
    }
   ],
   "source": [
    "%timeit ar**3"
   ]
  },
  {
   "cell_type": "markdown",
   "id": "df6cdd57-f090-4243-9ca9-f197855bfb70",
   "metadata": {},
   "source": [
    "## Matrix Multiplication"
   ]
  },
  {
   "cell_type": "code",
   "execution_count": 17,
   "id": "98db4cb4-dc43-4b71-ac11-bc29e8773ac6",
   "metadata": {},
   "outputs": [
    {
     "data": {
      "text/plain": [
       "array([[1, 1],\n",
       "       [1, 1]])"
      ]
     },
     "execution_count": 17,
     "metadata": {},
     "output_type": "execute_result"
    }
   ],
   "source": [
    "ar = np.array([[1,1],[1,1]])\n",
    "ar"
   ]
  },
  {
   "cell_type": "code",
   "execution_count": 19,
   "id": "82707c76-dd77-4665-b32d-76d28307a63b",
   "metadata": {},
   "outputs": [
    {
     "data": {
      "text/plain": [
       "array([[2, 2],\n",
       "       [2, 2]])"
      ]
     },
     "execution_count": 19,
     "metadata": {},
     "output_type": "execute_result"
    }
   ],
   "source": [
    "ar1 = np.array([[2,2],[2,2]])\n",
    "ar1\n",
    "\n"
   ]
  },
  {
   "cell_type": "code",
   "execution_count": 21,
   "id": "b0b3545c-a29a-4b83-b4aa-57896eaae772",
   "metadata": {},
   "outputs": [
    {
     "data": {
      "text/plain": [
       "array([[4, 4],\n",
       "       [4, 4]])"
      ]
     },
     "execution_count": 21,
     "metadata": {},
     "output_type": "execute_result"
    }
   ],
   "source": [
    "ar.dot(ar1)"
   ]
  },
  {
   "cell_type": "markdown",
   "id": "d30dccd0-d5d6-4283-9e3d-dafe8586bf0d",
   "metadata": {},
   "source": [
    "## Element wise Logical comparision"
   ]
  },
  {
   "cell_type": "code",
   "execution_count": 23,
   "id": "053869ea-4463-4484-ae73-eacf94c3a91f",
   "metadata": {},
   "outputs": [
    {
     "data": {
      "text/plain": [
       "array([1, 2, 3, 4])"
      ]
     },
     "execution_count": 23,
     "metadata": {},
     "output_type": "execute_result"
    }
   ],
   "source": [
    "arr =np.arange(1,5)\n",
    "arr"
   ]
  },
  {
   "cell_type": "code",
   "execution_count": 27,
   "id": "52fc84b6-6d55-4ca7-9b02-d309b40905e4",
   "metadata": {},
   "outputs": [
    {
     "data": {
      "text/plain": [
       "array([5, 4, 3, 2])"
      ]
     },
     "execution_count": 27,
     "metadata": {},
     "output_type": "execute_result"
    }
   ],
   "source": [
    "ar2 = np.arange(5,1,-1)\n",
    "ar2\n"
   ]
  },
  {
   "cell_type": "code",
   "execution_count": 31,
   "id": "69b17865-a9dc-4f88-9c43-6c86ffe379db",
   "metadata": {},
   "outputs": [
    {
     "data": {
      "text/plain": [
       "array([ True,  True, False, False])"
      ]
     },
     "execution_count": 31,
     "metadata": {},
     "output_type": "execute_result"
    }
   ],
   "source": [
    "arr < ar2"
   ]
  },
  {
   "cell_type": "markdown",
   "id": "d024d861-de5d-447f-96fd-e1676502196a",
   "metadata": {},
   "source": [
    "#### Logical function\n"
   ]
  },
  {
   "cell_type": "code",
   "execution_count": 36,
   "id": "b7ffc935-d504-42cf-9698-407c4c485a57",
   "metadata": {},
   "outputs": [
    {
     "data": {
      "text/plain": [
       "array([False, False,  True, False])"
      ]
     },
     "execution_count": 36,
     "metadata": {},
     "output_type": "execute_result"
    }
   ],
   "source": [
    "l1 = np.array([True, False,True,False])\n",
    "l2 =np.array([False, False, True, True])\n",
    "np.logical_and(l1,l2)"
   ]
  },
  {
   "cell_type": "code",
   "execution_count": 38,
   "id": "aca3f523-fe1d-424c-ac02-43255aa79960",
   "metadata": {},
   "outputs": [
    {
     "data": {
      "text/plain": [
       "array([ True, False,  True,  True])"
      ]
     },
     "execution_count": 38,
     "metadata": {},
     "output_type": "execute_result"
    }
   ],
   "source": [
    "np.logical_or(l1,l2)"
   ]
  },
  {
   "cell_type": "code",
   "execution_count": 41,
   "id": "4ce0dfb4-2899-488d-af8c-5e42b9b23368",
   "metadata": {},
   "outputs": [
    {
     "data": {
      "text/plain": [
       "array([False,  True, False,  True])"
      ]
     },
     "execution_count": 41,
     "metadata": {},
     "output_type": "execute_result"
    }
   ],
   "source": [
    "np.logical_not(l1)"
   ]
  },
  {
   "cell_type": "code",
   "execution_count": 46,
   "id": "9d4dcc72-1f19-4c6f-9665-d91c8cb03cb6",
   "metadata": {},
   "outputs": [
    {
     "data": {
      "text/plain": [
       "array([1.2246468e-16, 1.0000000e+00])"
      ]
     },
     "execution_count": 46,
     "metadata": {},
     "output_type": "execute_result"
    }
   ],
   "source": [
    "np.sin([np.pi, np.pi/2])"
   ]
  },
  {
   "cell_type": "code",
   "execution_count": 48,
   "id": "dafb2591-4a98-4d78-a737-b919f6034225",
   "metadata": {},
   "outputs": [
    {
     "data": {
      "text/plain": [
       "array([[1, 1],\n",
       "       [1, 1]])"
      ]
     },
     "execution_count": 48,
     "metadata": {},
     "output_type": "execute_result"
    }
   ],
   "source": [
    "ar.T"
   ]
  },
  {
   "cell_type": "code",
   "execution_count": 50,
   "id": "f60699c6-ce35-4d03-b346-5ae599c2b3e5",
   "metadata": {},
   "outputs": [
    {
     "data": {
      "text/plain": [
       "False"
      ]
     },
     "execution_count": 50,
     "metadata": {},
     "output_type": "execute_result"
    }
   ],
   "source": [
    "np.all(l1==l2)"
   ]
  },
  {
   "cell_type": "markdown",
   "id": "1ba23c5c-b115-4a39-bb17-dde77908050d",
   "metadata": {},
   "source": [
    "### Reduction Operations"
   ]
  },
  {
   "cell_type": "code",
   "execution_count": 5,
   "id": "3e13df34-df9e-48e1-a005-aff45a24515c",
   "metadata": {},
   "outputs": [
    {
     "name": "stdout",
     "output_type": "stream",
     "text": [
      "[[1 2 3 4 5]\n",
      " [1 2 3 4 5]]\n"
     ]
    },
    {
     "data": {
      "text/plain": [
       "array([ 1,  4,  9, 16, 25])"
      ]
     },
     "execution_count": 5,
     "metadata": {},
     "output_type": "execute_result"
    }
   ],
   "source": [
    "ar = np.arange(1,6)\n",
    "ar= np.tile([ar],(2,1))\n",
    "print(ar)\n",
    "np.prod(ar,axis=0) ## axis =0 means column wise 1 mean rowise\n"
   ]
  },
  {
   "cell_type": "code",
   "execution_count": 83,
   "id": "8d25af3d-7639-4506-8a0d-61c2958e35f6",
   "metadata": {},
   "outputs": [
    {
     "data": {
      "text/plain": [
       "30"
      ]
     },
     "execution_count": 83,
     "metadata": {},
     "output_type": "execute_result"
    }
   ],
   "source": [
    "ar.sum()"
   ]
  },
  {
   "cell_type": "code",
   "execution_count": 84,
   "id": "e1450e1c-4276-4cb1-a8d8-5f4aab3c069d",
   "metadata": {},
   "outputs": [
    {
     "data": {
      "text/plain": [
       "3.0"
      ]
     },
     "execution_count": 84,
     "metadata": {},
     "output_type": "execute_result"
    }
   ],
   "source": [
    "ar.mean()"
   ]
  },
  {
   "cell_type": "code",
   "execution_count": 6,
   "id": "2b56032c-012c-4532-8231-f9ccb5e70980",
   "metadata": {},
   "outputs": [
    {
     "data": {
      "text/plain": [
       "3.0"
      ]
     },
     "execution_count": 6,
     "metadata": {},
     "output_type": "execute_result"
    }
   ],
   "source": [
    "np.median(ar)"
   ]
  },
  {
   "cell_type": "code",
   "execution_count": 11,
   "id": "8af57ddc-38bc-4149-8d56-1ea2899e9af0",
   "metadata": {},
   "outputs": [
    {
     "data": {
      "text/plain": [
       "array([[1, 1],\n",
       "       [2, 2],\n",
       "       [3, 3],\n",
       "       [4, 4],\n",
       "       [5, 5]])"
      ]
     },
     "execution_count": 11,
     "metadata": {},
     "output_type": "execute_result"
    }
   ],
   "source": [
    "ar.T # Transpose"
   ]
  },
  {
   "cell_type": "code",
   "execution_count": 13,
   "id": "c1373d44-e87c-4d02-9cca-a7b04e440962",
   "metadata": {},
   "outputs": [
    {
     "data": {
      "text/plain": [
       "True"
      ]
     },
     "execution_count": 13,
     "metadata": {},
     "output_type": "execute_result"
    }
   ],
   "source": [
    "np.array_equal(ar,ar)\n"
   ]
  },
  {
   "cell_type": "markdown",
   "id": "a3cecf5b-80d3-431f-8875-88a485a259a2",
   "metadata": {},
   "source": [
    "### Statistical Operators"
   ]
  },
  {
   "cell_type": "code",
   "execution_count": 18,
   "id": "f0529f07-ab28-45ae-8f9d-83b3f1563efa",
   "metadata": {},
   "outputs": [
    {
     "data": {
      "text/plain": [
       "array([[9, 4, 0, 1, 9],\n",
       "       [0, 1, 8, 9, 0],\n",
       "       [8, 6, 4, 3, 0],\n",
       "       [4, 6, 8, 1, 8]])"
      ]
     },
     "execution_count": 18,
     "metadata": {},
     "output_type": "execute_result"
    }
   ],
   "source": [
    "np.random.seed(10)\n",
    "ar = np.random.randint(0,10,size=(4,5))\n",
    "ar"
   ]
  },
  {
   "cell_type": "code",
   "execution_count": 24,
   "id": "960a4831-cda6-4cf7-ba0c-ef24e1a8223b",
   "metadata": {},
   "outputs": [
    {
     "data": {
      "text/plain": [
       "array([5.25, 4.25, 5.  , 3.5 , 4.25])"
      ]
     },
     "execution_count": 24,
     "metadata": {},
     "output_type": "execute_result"
    }
   ],
   "source": [
    "ar.mean( axis =0) # mean of col"
   ]
  },
  {
   "cell_type": "code",
   "execution_count": 27,
   "id": "030b4ab4-d148-4372-96de-500d85a8bb9b",
   "metadata": {},
   "outputs": [
    {
     "data": {
      "text/plain": [
       "array([3.56195171, 2.04633819, 3.31662479, 3.27871926, 4.26468053])"
      ]
     },
     "execution_count": 27,
     "metadata": {},
     "output_type": "execute_result"
    }
   ],
   "source": [
    "ar.std(axis =0)"
   ]
  },
  {
   "cell_type": "code",
   "execution_count": 30,
   "id": "221f2ee6-455e-4013-9d22-2b7dc910bfd1",
   "metadata": {},
   "outputs": [
    {
     "data": {
      "text/plain": [
       "array([14.64, 16.24,  7.36,  7.04])"
      ]
     },
     "execution_count": 30,
     "metadata": {},
     "output_type": "execute_result"
    }
   ],
   "source": [
    "ar.var(axis =1)\n"
   ]
  },
  {
   "cell_type": "code",
   "execution_count": 33,
   "id": "166d080b-a828-4285-8d0d-4a3637a42584",
   "metadata": {},
   "outputs": [
    {
     "data": {
      "text/plain": [
       "array([[ 9,  4,  0,  1,  9],\n",
       "       [ 9,  5,  8, 10,  9],\n",
       "       [17, 11, 12, 13,  9],\n",
       "       [21, 17, 20, 14, 17]], dtype=int32)"
      ]
     },
     "execution_count": 33,
     "metadata": {},
     "output_type": "execute_result"
    }
   ],
   "source": [
    "ar.cumsum(axis =0)"
   ]
  },
  {
   "cell_type": "markdown",
   "id": "b5de304b-78d4-44a0-acc0-749a62a67c00",
   "metadata": {},
   "source": [
    "### Logical Operator"
   ]
  },
  {
   "cell_type": "code",
   "execution_count": 43,
   "id": "6a666711-ecb3-4ddc-a9ba-3e86b6949af0",
   "metadata": {},
   "outputs": [
    {
     "name": "stdout",
     "output_type": "stream",
     "text": [
      "[[2 4 0 1 2]\n",
      " [0 1 1 2 0]\n",
      " [1 6 4 3 0]\n",
      " [4 6 1 1 1]] \n",
      "\n",
      " [[9 4 0 1 9]\n",
      " [0 1 8 9 0]\n",
      " [8 6 4 3 0]\n",
      " [4 6 8 1 8]]\n"
     ]
    },
    {
     "data": {
      "text/plain": [
       "True"
      ]
     },
     "execution_count": 43,
     "metadata": {},
     "output_type": "execute_result"
    }
   ],
   "source": [
    "print(ar%7,'\\n\\n', ar)\n",
    "\n",
    "np.any((ar%7)==0)"
   ]
  },
  {
   "cell_type": "code",
   "execution_count": 46,
   "id": "35184252-a4bd-47b1-9a4e-e08cf37b9804",
   "metadata": {},
   "outputs": [
    {
     "data": {
      "text/plain": [
       "True"
      ]
     },
     "execution_count": 46,
     "metadata": {},
     "output_type": "execute_result"
    }
   ],
   "source": [
    "np.all(ar<11)"
   ]
  },
  {
   "cell_type": "markdown",
   "id": "00738579-4a39-409c-8a68-06afab98be67",
   "metadata": {},
   "source": [
    "## Array Shape Manipulation"
   ]
  },
  {
   "cell_type": "markdown",
   "id": "d1cd2ee0-0469-4b65-9512-9abd56a6729e",
   "metadata": {},
   "source": [
    "### Flattning an array"
   ]
  },
  {
   "cell_type": "code",
   "execution_count": 50,
   "id": "d6e327fa-2cd4-4608-8c0b-29639c1e4ebd",
   "metadata": {},
   "outputs": [
    {
     "name": "stdout",
     "output_type": "stream",
     "text": [
      "[[9 4 0 1 9]\n",
      " [0 1 8 9 0]\n",
      " [8 6 4 3 0]\n",
      " [4 6 8 1 8]]\n"
     ]
    },
    {
     "data": {
      "text/plain": [
       "array([9, 4, 0, 1, 9, 0, 1, 8, 9, 0, 8, 6, 4, 3, 0, 4, 6, 8, 1, 8])"
      ]
     },
     "execution_count": 50,
     "metadata": {},
     "output_type": "execute_result"
    }
   ],
   "source": [
    "print(ar)\n",
    "ar.ravel()"
   ]
  },
  {
   "cell_type": "code",
   "execution_count": 52,
   "id": "7e684efb-5cfb-44a6-a7a4-6644fe695993",
   "metadata": {},
   "outputs": [
    {
     "data": {
      "text/plain": [
       "array([9, 0, 8, 4, 4, 1, 6, 6, 0, 8, 4, 8, 1, 9, 3, 1, 9, 0, 0, 8])"
      ]
     },
     "execution_count": 52,
     "metadata": {},
     "output_type": "execute_result"
    }
   ],
   "source": [
    "ar.T.ravel()"
   ]
  },
  {
   "cell_type": "markdown",
   "id": "9da0e909-00bb-43b7-a479-994063e74fff",
   "metadata": {},
   "source": [
    "### Reshaping or unflatten an array"
   ]
  },
  {
   "cell_type": "code",
   "execution_count": 57,
   "id": "cc5df323-556d-445a-aa92-f9ed4e431809",
   "metadata": {},
   "outputs": [
    {
     "data": {
      "text/plain": [
       "array([[9, 0, 8, 4],\n",
       "       [4, 1, 6, 6],\n",
       "       [0, 8, 4, 8],\n",
       "       [1, 9, 3, 1],\n",
       "       [9, 0, 0, 8]])"
      ]
     },
     "execution_count": 57,
     "metadata": {},
     "output_type": "execute_result"
    }
   ],
   "source": [
    "\n",
    "ar1 = ar.T.ravel().copy()\n",
    "ar1.reshape(5,4)\n",
    "\n"
   ]
  },
  {
   "cell_type": "markdown",
   "id": "7db37b2b-75d9-49d5-a887-78abc81419fd",
   "metadata": {},
   "source": [
    "### Resizing"
   ]
  },
  {
   "cell_type": "code",
   "execution_count": 68,
   "id": "c32e311e-529c-47a1-9634-088c5915d937",
   "metadata": {},
   "outputs": [
    {
     "data": {
      "text/plain": [
       "array([[0, 1, 2],\n",
       "       [3, 4, 0],\n",
       "       [0, 0, 0]])"
      ]
     },
     "execution_count": 68,
     "metadata": {},
     "output_type": "execute_result"
    }
   ],
   "source": [
    "ar = np.arange(5)\n",
    "ar.resize((3,3))\n",
    "ar"
   ]
  },
  {
   "cell_type": "markdown",
   "id": "12f4e973-38fe-430f-a5a6-6d9656daaefe",
   "metadata": {},
   "source": [
    "### Adding a dimension"
   ]
  },
  {
   "cell_type": "code",
   "execution_count": 79,
   "id": "d753ea77-956c-46df-a91e-00b1b976fac4",
   "metadata": {},
   "outputs": [
    {
     "data": {
      "text/plain": [
       "(3,)"
      ]
     },
     "execution_count": 79,
     "metadata": {},
     "output_type": "execute_result"
    }
   ],
   "source": [
    "ar = np.array([14,15,16]);\n",
    "ar.shape\n"
   ]
  },
  {
   "cell_type": "code",
   "execution_count": 80,
   "id": "ff5b6583-2bf9-4b05-b431-aa0638ee0042",
   "metadata": {},
   "outputs": [
    {
     "data": {
      "text/plain": [
       "array([[14],\n",
       "       [15],\n",
       "       [16]])"
      ]
     },
     "execution_count": 80,
     "metadata": {},
     "output_type": "execute_result"
    }
   ],
   "source": [
    "ar =ar[:,np.newaxis]\n",
    "ar\n"
   ]
  },
  {
   "cell_type": "markdown",
   "id": "1900f330-7fd8-4b2a-ac3f-10c32cd511c7",
   "metadata": {},
   "source": [
    "## Array Sorting"
   ]
  },
  {
   "cell_type": "code",
   "execution_count": 100,
   "id": "1101128b-5f0d-472d-81db-ecfd747770fa",
   "metadata": {},
   "outputs": [
    {
     "data": {
      "text/plain": [
       "array([[ 3,  2],\n",
       "       [10, -1]])"
      ]
     },
     "execution_count": 100,
     "metadata": {},
     "output_type": "execute_result"
    }
   ],
   "source": [
    "ar = np.array([[3,2],[10,-1]])\n",
    "ar"
   ]
  },
  {
   "cell_type": "code",
   "execution_count": 94,
   "id": "f48710f3-8c55-4551-8aa0-c6a784edbfba",
   "metadata": {},
   "outputs": [
    {
     "data": {
      "text/plain": [
       "array([[ 3, -1],\n",
       "       [10,  2]])"
      ]
     },
     "execution_count": 94,
     "metadata": {},
     "output_type": "execute_result"
    }
   ],
   "source": [
    "ar.sort(axis =0)\n",
    "ar"
   ]
  },
  {
   "cell_type": "code",
   "execution_count": 97,
   "id": "54e3a5ce-2337-4ca6-b67a-4c8a352922e0",
   "metadata": {},
   "outputs": [
    {
     "data": {
      "text/plain": [
       "array([[ 2,  3],\n",
       "       [-1, 10]])"
      ]
     },
     "execution_count": 97,
     "metadata": {},
     "output_type": "execute_result"
    }
   ],
   "source": [
    "ar.sort(axis =1)\n",
    "ar"
   ]
  },
  {
   "cell_type": "code",
   "execution_count": 101,
   "id": "b782973b-6e7b-412b-ac18-b910c382f80b",
   "metadata": {},
   "outputs": [
    {
     "data": {
      "text/plain": [
       "(3, 2)"
      ]
     },
     "execution_count": 101,
     "metadata": {},
     "output_type": "execute_result"
    }
   ],
   "source": [
    "ar.argmin(),ar.argmax()"
   ]
  }
 ],
 "metadata": {
  "kernelspec": {
   "display_name": "Python 3 (ipykernel)",
   "language": "python",
   "name": "python3"
  },
  "language_info": {
   "codemirror_mode": {
    "name": "ipython",
    "version": 3
   },
   "file_extension": ".py",
   "mimetype": "text/x-python",
   "name": "python",
   "nbconvert_exporter": "python",
   "pygments_lexer": "ipython3",
   "version": "3.9.9"
  },
  "toc-autonumbering": false,
  "toc-showcode": false,
  "toc-showmarkdowntxt": true
 },
 "nbformat": 4,
 "nbformat_minor": 5
}
