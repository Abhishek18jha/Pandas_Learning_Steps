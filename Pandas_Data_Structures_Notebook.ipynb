{
 "cells": [
  {
   "cell_type": "markdown",
   "id": "6aead2d0-9fb6-4599-82fd-976225570b63",
   "metadata": {},
   "source": [
    "# Pandas Data Structures\n",
    "\n",
    "* Series\n",
    "* Dataframe\n",
    "* Panel"
   ]
  },
  {
   "cell_type": "code",
   "execution_count": 2,
   "id": "befdd389-f379-45d2-9763-be7572f1a1b9",
   "metadata": {},
   "outputs": [],
   "source": [
    "import pandas as pd\n",
    "import numpy as np"
   ]
  },
  {
   "cell_type": "markdown",
   "id": "94cd453e-75c3-4a50-b5ce-a3719466d35e",
   "metadata": {},
   "source": [
    "## Series "
   ]
  },
  {
   "cell_type": "markdown",
   "id": "502a877c-277b-406c-a8e0-2cae33984085",
   "metadata": {},
   "source": [
    "### Series Creation"
   ]
  },
  {
   "cell_type": "code",
   "execution_count": 10,
   "id": "baf83cdc-dec1-4a58-bb87-62c77c72dde1",
   "metadata": {},
   "outputs": [
    {
     "data": {
      "text/plain": [
       "0    0.543405\n",
       "1    0.278369\n",
       "2    0.424518\n",
       "3    0.844776\n",
       "4    0.004719\n",
       "5    0.121569\n",
       "6    0.670749\n",
       "dtype: float64"
      ]
     },
     "execution_count": 10,
     "metadata": {},
     "output_type": "execute_result"
    }
   ],
   "source": [
    "np.random.seed(100)\n",
    "data = np.random.rand(7)\n",
    "ser = pd.Series(data)\n",
    "ser"
   ]
  },
  {
   "cell_type": "markdown",
   "id": "c11dcc29-d797-435a-a23b-e924af3c16c6",
   "metadata": {},
   "source": [
    "#### Create a Series Structure of first 5 months of the year with a specified index of month names:"
   ]
  },
  {
   "cell_type": "code",
   "execution_count": 20,
   "id": "d44fa8bc-4371-4a43-9b84-b61a4900eb84",
   "metadata": {},
   "outputs": [
    {
     "data": {
      "text/plain": [
       "January       1\n",
       "February      2\n",
       "March         3\n",
       "April         4\n",
       "May           5\n",
       "June          6\n",
       "July          7\n",
       "August        8\n",
       "September     9\n",
       "October      10\n",
       "November     11\n",
       "December     12\n",
       "dtype: int32"
      ]
     },
     "execution_count": 20,
     "metadata": {},
     "output_type": "execute_result"
    }
   ],
   "source": [
    "import calendar as cal\n",
    "monthName = [cal.month_name[i] for i in np.arange(1,13)]\n",
    "months = pd.Series(np.arange(1,13),index = monthName)\n",
    "months"
   ]
  },
  {
   "cell_type": "markdown",
   "id": "f1ac4fe6-c199-4dc3-b03b-0bfd90fcb1c7",
   "metadata": {},
   "source": [
    "#### Index of Series\n"
   ]
  },
  {
   "cell_type": "code",
   "execution_count": 24,
   "id": "d6d24e6d-e428-4126-aeca-e90ce2289ece",
   "metadata": {},
   "outputs": [
    {
     "data": {
      "text/plain": [
       "Index(['January', 'February', 'March', 'April', 'May', 'June', 'July',\n",
       "       'August', 'September', 'October', 'November', 'December'],\n",
       "      dtype='object')"
      ]
     },
     "execution_count": 24,
     "metadata": {},
     "output_type": "execute_result"
    }
   ],
   "source": [
    "months.index"
   ]
  },
  {
   "cell_type": "markdown",
   "id": "0e026f3d-7229-4644-8c9b-3cc3a5c46576",
   "metadata": {},
   "source": [
    "#### Series using Python Dictionary"
   ]
  },
  {
   "cell_type": "code",
   "execution_count": 67,
   "id": "4544f78a-11bb-4600-8571-c0b54ecad828",
   "metadata": {},
   "outputs": [
    {
     "data": {
      "text/plain": [
       "{'US': 'dollar',\n",
       " 'UK': 'pound',\n",
       " 'Germany': 'euro',\n",
       " 'Mexico': 'peso',\n",
       " 'Nigeria': 'Naira',\n",
       " 'China': 'yuan',\n",
       " 'Japan': 'yen'}"
      ]
     },
     "execution_count": 67,
     "metadata": {},
     "output_type": "execute_result"
    }
   ],
   "source": [
    "currDict  = {'US' :'dollar','UK' : 'pound','Germany': 'euro',\n",
    "             'Mexico' : 'peso','Nigeria':'Naira','China':'yuan','Japan':'yen'}\n",
    "currDict"
   ]
  },
  {
   "cell_type": "code",
   "execution_count": 68,
   "id": "2053c739-25fe-45c7-b815-212d5293e83b",
   "metadata": {},
   "outputs": [
    {
     "data": {
      "text/plain": [
       "US         dollar\n",
       "UK          pound\n",
       "Germany      euro\n",
       "Mexico       peso\n",
       "Nigeria     Naira\n",
       "China        yuan\n",
       "Japan         yen\n",
       "dtype: object"
      ]
     },
     "execution_count": 68,
     "metadata": {},
     "output_type": "execute_result"
    }
   ],
   "source": [
    "currSeries =pd.Series(currDict)\n",
    "currSeries"
   ]
  },
  {
   "cell_type": "markdown",
   "id": "5b2936b4-b053-4295-8a35-cf5c9f26a00c",
   "metadata": {},
   "source": [
    "### Operations on Series"
   ]
  },
  {
   "cell_type": "code",
   "execution_count": 33,
   "id": "6dfc8e2a-814f-477d-8716-362479818753",
   "metadata": {},
   "outputs": [
    {
     "data": {
      "text/plain": [
       "'yuan'"
      ]
     },
     "execution_count": 33,
     "metadata": {},
     "output_type": "execute_result"
    }
   ],
   "source": [
    "currDict['China']"
   ]
  },
  {
   "cell_type": "markdown",
   "id": "ff9276ae-b722-4715-8dc9-bfc2c0825e32",
   "metadata": {},
   "source": [
    "#### Assignment Operation"
   ]
  },
  {
   "cell_type": "code",
   "execution_count": 36,
   "id": "59035d1a-a189-4283-8284-be7775a7b4d9",
   "metadata": {},
   "outputs": [
    {
     "data": {
      "text/plain": [
       "{'US': 'dollar',\n",
       " 'UK': 'pound',\n",
       " 'Germany': 'euro',\n",
       " 'Mexico': 'peso',\n",
       " 'Nigeria': 'Naira',\n",
       " 'China': 'Yuan',\n",
       " 'Japan': 'yen'}"
      ]
     },
     "execution_count": 36,
     "metadata": {},
     "output_type": "execute_result"
    }
   ],
   "source": [
    "currDict['China']='Yuan'\n",
    "currDict"
   ]
  },
  {
   "cell_type": "code",
   "execution_count": 41,
   "id": "eb7d664f-388a-4289-b430-dcf4d221a63b",
   "metadata": {},
   "outputs": [
    {
     "data": {
      "text/plain": [
       "'pound'"
      ]
     },
     "execution_count": 41,
     "metadata": {},
     "output_type": "execute_result"
    }
   ],
   "source": [
    "currDict.get('UK')"
   ]
  },
  {
   "cell_type": "markdown",
   "id": "7fd2e093-ca5a-484b-a26d-50a25de5b1e7",
   "metadata": {},
   "source": [
    "#### Slicing "
   ]
  },
  {
   "cell_type": "code",
   "execution_count": 53,
   "id": "3aa3626c-a536-42e8-8655-9a136b0b38b1",
   "metadata": {},
   "outputs": [
    {
     "data": {
      "text/plain": [
       "US    dollar\n",
       "UK     pound\n",
       "dtype: object"
      ]
     },
     "execution_count": 53,
     "metadata": {},
     "output_type": "execute_result"
    }
   ],
   "source": [
    "currSeries[:2]"
   ]
  },
  {
   "cell_type": "code",
   "execution_count": 4,
   "id": "1d42f56c-2350-46fc-a136-fa3e526f447d",
   "metadata": {},
   "outputs": [
    {
     "data": {
      "text/plain": [
       "US          73.000\n",
       "UK         103.000\n",
       "Germany     80.000\n",
       "Mexico       4.000\n",
       "Nigeria      0.003\n",
       "China       12.000\n",
       "Japan        0.300\n",
       "dtype: float64"
      ]
     },
     "execution_count": 4,
     "metadata": {},
     "output_type": "execute_result"
    }
   ],
   "source": [
    "currVal  = {'US' :73,'UK' : 103,'Germany': 80,\n",
    "             'Mexico' : 4,'Nigeria':0.003,'China':12,'Japan':0.3}\n",
    "currVal = pd.Series(currVal)\n",
    "currVal"
   ]
  },
  {
   "cell_type": "code",
   "execution_count": 62,
   "id": "6f5b3001-3993-4955-8bb5-888c3f6fffdb",
   "metadata": {},
   "outputs": [
    {
     "data": {
      "text/plain": [
       "38.90042857142857"
      ]
     },
     "execution_count": 62,
     "metadata": {},
     "output_type": "execute_result"
    }
   ],
   "source": [
    "np.mean(currVal)"
   ]
  },
  {
   "cell_type": "code",
   "execution_count": 64,
   "id": "df99c6c6-22cd-48ce-8931-a521338d4a3c",
   "metadata": {},
   "outputs": [
    {
     "data": {
      "text/plain": [
       "41.24038694517493"
      ]
     },
     "execution_count": 64,
     "metadata": {},
     "output_type": "execute_result"
    }
   ],
   "source": [
    "np.std(currVal)"
   ]
  },
  {
   "cell_type": "code",
   "execution_count": 66,
   "id": "7150ffc9-62df-47d6-841f-7db3841a4afe",
   "metadata": {},
   "outputs": [
    {
     "data": {
      "text/plain": [
       "US          5329.000000\n",
       "UK         10609.000000\n",
       "Germany     6400.000000\n",
       "Mexico        16.000000\n",
       "Nigeria        0.000009\n",
       "China        144.000000\n",
       "Japan          0.090000\n",
       "dtype: float64"
      ]
     },
     "execution_count": 66,
     "metadata": {},
     "output_type": "execute_result"
    }
   ],
   "source": [
    "currVal*currVal\n"
   ]
  },
  {
   "cell_type": "code",
   "execution_count": 5,
   "id": "6f95147d-5457-480c-a9f2-7558d83e06fe",
   "metadata": {},
   "outputs": [
    {
     "data": {
      "text/plain": [
       "US          8.544004\n",
       "UK         10.148892\n",
       "Germany     8.944272\n",
       "Mexico      2.000000\n",
       "Nigeria     0.054772\n",
       "China       3.464102\n",
       "Japan       0.547723\n",
       "dtype: float64"
      ]
     },
     "execution_count": 5,
     "metadata": {},
     "output_type": "execute_result"
    }
   ],
   "source": [
    "np.sqrt(currVal)"
   ]
  },
  {
   "cell_type": "markdown",
   "id": "e18390a1-5b77-495b-97d1-1c431ace72c5",
   "metadata": {},
   "source": [
    "### Slicing in Series"
   ]
  },
  {
   "cell_type": "code",
   "execution_count": 12,
   "id": "39aff05f-35c0-49a3-a4fe-11a42c524e88",
   "metadata": {},
   "outputs": [
    {
     "data": {
      "text/plain": [
       "UK         103.000\n",
       "Germany     80.000\n",
       "Mexico       4.000\n",
       "Nigeria      0.003\n",
       "China       12.000\n",
       "Japan        0.300\n",
       "dtype: float64"
      ]
     },
     "execution_count": 12,
     "metadata": {},
     "output_type": "execute_result"
    }
   ],
   "source": [
    "currVal[1:]"
   ]
  },
  {
   "cell_type": "code",
   "execution_count": 14,
   "id": "622722e3-5a22-4dfd-8679-5dbc003f87b5",
   "metadata": {},
   "outputs": [
    {
     "data": {
      "text/plain": [
       "UK    103.0\n",
       "dtype: float64"
      ]
     },
     "execution_count": 14,
     "metadata": {},
     "output_type": "execute_result"
    }
   ],
   "source": [
    "currVal[currVal>100]"
   ]
  },
  {
   "cell_type": "code",
   "execution_count": 18,
   "id": "a5b49092-e228-4f5a-8ad5-38f1c9a5ced6",
   "metadata": {},
   "outputs": [
    {
     "data": {
      "text/plain": [
       "China          NaN\n",
       "Germany    160.000\n",
       "Japan          NaN\n",
       "Mexico       8.000\n",
       "Nigeria      0.006\n",
       "UK         206.000\n",
       "US             NaN\n",
       "dtype: float64"
      ]
     },
     "execution_count": 18,
     "metadata": {},
     "output_type": "execute_result"
    }
   ],
   "source": [
    "currVal[1:]+currVal[:-2]"
   ]
  },
  {
   "cell_type": "markdown",
   "id": "2bfcab11-b24b-4b22-8360-1a1839060d06",
   "metadata": {},
   "source": [
    "## DateFrame 2-D labeled array"
   ]
  },
  {
   "cell_type": "markdown",
   "id": "11304df3-f40a-484f-b653-3d692a01e3b3",
   "metadata": {},
   "source": [
    "### Using Dictionaries of Series"
   ]
  },
  {
   "cell_type": "code",
   "execution_count": 24,
   "id": "aee5fcbe-01fe-4651-93c3-5465099260b4",
   "metadata": {},
   "outputs": [
    {
     "data": {
      "text/plain": [
       "{'AMZN': Closing Price            346.15\n",
       " EPS                        0.59\n",
       " Shares Outstanding(M)    459.00\n",
       " Beta                       0.52\n",
       " P/E                      589.80\n",
       " Market Cap(B)            158.88\n",
       " dtype: float64,\n",
       " 'GOOG': Closing price            1133.43\n",
       " EPS                        36.05\n",
       " Shares Outstanding(M)     335.83\n",
       " Beta                        0.87\n",
       " P/E                        31.44\n",
       " Market Cap(B)             380.64\n",
       " dtype: float64,\n",
       " 'FB': Closing price              61.48\n",
       " EPS                         0.59\n",
       " Shares Outstanding(M)    2450.00\n",
       " P/E                       104.93\n",
       " Market Cap(B)             150.92\n",
       " dtype: float64,\n",
       " 'YHOO': Closing price              34.90\n",
       " EPS                         1.27\n",
       " Shares Outstanding(M)    1010.00\n",
       " P/E                        27.48\n",
       " Beta                        0.66\n",
       " Market Cap(B)              35.36\n",
       " dtype: float64,\n",
       " 'TWTR': Closing price             65.25\n",
       " EPS                       -0.30\n",
       " Shares Outstanding(M)    555.20\n",
       " Market Cap(B)             36.23\n",
       " dtype: float64,\n",
       " 'AAPL': Closing price            501.53\n",
       " EPS                       40.32\n",
       " Shares Outstanding(M)    892.45\n",
       " P/E                       12.44\n",
       " Market Cap(B)            447.59\n",
       " Beta                       0.84\n",
       " dtype: float64}"
      ]
     },
     "execution_count": 24,
     "metadata": {},
     "output_type": "execute_result"
    }
   ],
   "source": [
    "stockSummaries = {'AMZN':pd.Series([346.15,0.59,459,0.52,589.8,158.88],index =[\n",
    "    'Closing Price','EPS','Shares Outstanding(M)','Beta','P/E','Market Cap(B)']),\n",
    "                 'GOOG': pd.Series([1133.43,36.05,335.83,0.87,31.44,380.64],\n",
    " index=['Closing price','EPS','Shares Outstanding(M)',\n",
    " 'Beta','P/E','Market Cap(B)']),'FB': pd.Series([61.48,0.59,2450,104.93,150.92],\n",
    " index=['Closing price','EPS','Shares Outstanding(M)',\n",
    " 'P/E', 'Market Cap(B)']),\n",
    "'YHOO': pd.Series([34.90,1.27,1010,27.48,0.66,35.36],\n",
    " index=['Closing price','EPS','Shares Outstanding(M)',\n",
    " 'P/E','Beta', 'Market Cap(B)']),\n",
    "'TWTR':pd.Series([65.25,-0.3,555.2,36.23],\n",
    " index=['Closing price','EPS','Shares Outstanding(M)',\n",
    " 'Market Cap(B)']),\n",
    "'AAPL':pd.Series([501.53,40.32,892.45,12.44,447.59,0.84],\n",
    " index=['Closing price','EPS','Shares Outstanding(M)','P/E',\n",
    " 'Market Cap(B)','Beta'])}\n",
    "stockSummaries"
   ]
  },
  {
   "cell_type": "code",
   "execution_count": 26,
   "id": "615b35ba-2d00-4ab3-9374-f87a5aa2cf20",
   "metadata": {},
   "outputs": [
    {
     "data": {
      "text/html": [
       "<div>\n",
       "<style scoped>\n",
       "    .dataframe tbody tr th:only-of-type {\n",
       "        vertical-align: middle;\n",
       "    }\n",
       "\n",
       "    .dataframe tbody tr th {\n",
       "        vertical-align: top;\n",
       "    }\n",
       "\n",
       "    .dataframe thead th {\n",
       "        text-align: right;\n",
       "    }\n",
       "</style>\n",
       "<table border=\"1\" class=\"dataframe\">\n",
       "  <thead>\n",
       "    <tr style=\"text-align: right;\">\n",
       "      <th></th>\n",
       "      <th>AMZN</th>\n",
       "      <th>GOOG</th>\n",
       "      <th>FB</th>\n",
       "      <th>YHOO</th>\n",
       "      <th>TWTR</th>\n",
       "      <th>AAPL</th>\n",
       "    </tr>\n",
       "  </thead>\n",
       "  <tbody>\n",
       "    <tr>\n",
       "      <th>Beta</th>\n",
       "      <td>0.52</td>\n",
       "      <td>0.87</td>\n",
       "      <td>NaN</td>\n",
       "      <td>0.66</td>\n",
       "      <td>NaN</td>\n",
       "      <td>0.84</td>\n",
       "    </tr>\n",
       "    <tr>\n",
       "      <th>Closing Price</th>\n",
       "      <td>346.15</td>\n",
       "      <td>NaN</td>\n",
       "      <td>NaN</td>\n",
       "      <td>NaN</td>\n",
       "      <td>NaN</td>\n",
       "      <td>NaN</td>\n",
       "    </tr>\n",
       "    <tr>\n",
       "      <th>Closing price</th>\n",
       "      <td>NaN</td>\n",
       "      <td>1133.43</td>\n",
       "      <td>61.48</td>\n",
       "      <td>34.90</td>\n",
       "      <td>65.25</td>\n",
       "      <td>501.53</td>\n",
       "    </tr>\n",
       "    <tr>\n",
       "      <th>EPS</th>\n",
       "      <td>0.59</td>\n",
       "      <td>36.05</td>\n",
       "      <td>0.59</td>\n",
       "      <td>1.27</td>\n",
       "      <td>-0.30</td>\n",
       "      <td>40.32</td>\n",
       "    </tr>\n",
       "    <tr>\n",
       "      <th>Market Cap(B)</th>\n",
       "      <td>158.88</td>\n",
       "      <td>380.64</td>\n",
       "      <td>150.92</td>\n",
       "      <td>35.36</td>\n",
       "      <td>36.23</td>\n",
       "      <td>447.59</td>\n",
       "    </tr>\n",
       "    <tr>\n",
       "      <th>P/E</th>\n",
       "      <td>589.80</td>\n",
       "      <td>31.44</td>\n",
       "      <td>104.93</td>\n",
       "      <td>27.48</td>\n",
       "      <td>NaN</td>\n",
       "      <td>12.44</td>\n",
       "    </tr>\n",
       "    <tr>\n",
       "      <th>Shares Outstanding(M)</th>\n",
       "      <td>459.00</td>\n",
       "      <td>335.83</td>\n",
       "      <td>2450.00</td>\n",
       "      <td>1010.00</td>\n",
       "      <td>555.20</td>\n",
       "      <td>892.45</td>\n",
       "    </tr>\n",
       "  </tbody>\n",
       "</table>\n",
       "</div>"
      ],
      "text/plain": [
       "                         AMZN     GOOG       FB     YHOO    TWTR    AAPL\n",
       "Beta                     0.52     0.87      NaN     0.66     NaN    0.84\n",
       "Closing Price          346.15      NaN      NaN      NaN     NaN     NaN\n",
       "Closing price             NaN  1133.43    61.48    34.90   65.25  501.53\n",
       "EPS                      0.59    36.05     0.59     1.27   -0.30   40.32\n",
       "Market Cap(B)          158.88   380.64   150.92    35.36   36.23  447.59\n",
       "P/E                    589.80    31.44   104.93    27.48     NaN   12.44\n",
       "Shares Outstanding(M)  459.00   335.83  2450.00  1010.00  555.20  892.45"
      ]
     },
     "execution_count": 26,
     "metadata": {},
     "output_type": "execute_result"
    }
   ],
   "source": [
    "stockDF =pd.DataFrame(stockSummaries)\n",
    "stockDF"
   ]
  },
  {
   "cell_type": "code",
   "execution_count": 41,
   "id": "0684db70-c0ab-48c8-a32d-eb1e8476ac8b",
   "metadata": {},
   "outputs": [
    {
     "data": {
      "text/html": [
       "<div>\n",
       "<style scoped>\n",
       "    .dataframe tbody tr th:only-of-type {\n",
       "        vertical-align: middle;\n",
       "    }\n",
       "\n",
       "    .dataframe tbody tr th {\n",
       "        vertical-align: top;\n",
       "    }\n",
       "\n",
       "    .dataframe thead th {\n",
       "        text-align: right;\n",
       "    }\n",
       "</style>\n",
       "<table border=\"1\" class=\"dataframe\">\n",
       "  <thead>\n",
       "    <tr style=\"text-align: right;\">\n",
       "      <th></th>\n",
       "      <th>AMZN</th>\n",
       "      <th>GOOG</th>\n",
       "      <th>FB</th>\n",
       "      <th>YHOO</th>\n",
       "      <th>TWTR</th>\n",
       "      <th>AAPL</th>\n",
       "    </tr>\n",
       "  </thead>\n",
       "  <tbody>\n",
       "    <tr>\n",
       "      <th>Closing price</th>\n",
       "      <td>NaN</td>\n",
       "      <td>1133.43</td>\n",
       "      <td>61.48</td>\n",
       "      <td>34.90</td>\n",
       "      <td>65.25</td>\n",
       "      <td>501.53</td>\n",
       "    </tr>\n",
       "    <tr>\n",
       "      <th>EPS</th>\n",
       "      <td>0.59</td>\n",
       "      <td>36.05</td>\n",
       "      <td>0.59</td>\n",
       "      <td>1.27</td>\n",
       "      <td>-0.30</td>\n",
       "      <td>40.32</td>\n",
       "    </tr>\n",
       "    <tr>\n",
       "      <th>Shares Outstanding (M)</th>\n",
       "      <td>NaN</td>\n",
       "      <td>NaN</td>\n",
       "      <td>NaN</td>\n",
       "      <td>NaN</td>\n",
       "      <td>NaN</td>\n",
       "      <td>NaN</td>\n",
       "    </tr>\n",
       "    <tr>\n",
       "      <th>P/E</th>\n",
       "      <td>589.80</td>\n",
       "      <td>31.44</td>\n",
       "      <td>104.93</td>\n",
       "      <td>27.48</td>\n",
       "      <td>NaN</td>\n",
       "      <td>12.44</td>\n",
       "    </tr>\n",
       "    <tr>\n",
       "      <th>Market Cap(B)</th>\n",
       "      <td>158.88</td>\n",
       "      <td>380.64</td>\n",
       "      <td>150.92</td>\n",
       "      <td>35.36</td>\n",
       "      <td>36.23</td>\n",
       "      <td>447.59</td>\n",
       "    </tr>\n",
       "    <tr>\n",
       "      <th>Beta</th>\n",
       "      <td>0.52</td>\n",
       "      <td>0.87</td>\n",
       "      <td>NaN</td>\n",
       "      <td>0.66</td>\n",
       "      <td>NaN</td>\n",
       "      <td>0.84</td>\n",
       "    </tr>\n",
       "  </tbody>\n",
       "</table>\n",
       "</div>"
      ],
      "text/plain": [
       "                          AMZN     GOOG      FB   YHOO   TWTR    AAPL\n",
       "Closing price              NaN  1133.43   61.48  34.90  65.25  501.53\n",
       "EPS                       0.59    36.05    0.59   1.27  -0.30   40.32\n",
       "Shares Outstanding (M)     NaN      NaN     NaN    NaN    NaN     NaN\n",
       "P/E                     589.80    31.44  104.93  27.48    NaN   12.44\n",
       "Market Cap(B)           158.88   380.64  150.92  35.36  36.23  447.59\n",
       "Beta                      0.52     0.87     NaN   0.66    NaN    0.84"
      ]
     },
     "execution_count": 41,
     "metadata": {},
     "output_type": "execute_result"
    }
   ],
   "source": [
    "stockDF =pd.DataFrame(stockSummaries,index =['Closing price','EPS','Shares Outstanding (M)',\n",
    "                                             'P/E','Market Cap(B)','Beta'])\n",
    "stockDF"
   ]
  },
  {
   "cell_type": "code",
   "execution_count": 40,
   "id": "b3058d11-08b4-460c-81ff-b9a56c924316",
   "metadata": {},
   "outputs": [
    {
     "data": {
      "text/html": [
       "<div>\n",
       "<style scoped>\n",
       "    .dataframe tbody tr th:only-of-type {\n",
       "        vertical-align: middle;\n",
       "    }\n",
       "\n",
       "    .dataframe tbody tr th {\n",
       "        vertical-align: top;\n",
       "    }\n",
       "\n",
       "    .dataframe thead th {\n",
       "        text-align: right;\n",
       "    }\n",
       "</style>\n",
       "<table border=\"1\" class=\"dataframe\">\n",
       "  <thead>\n",
       "    <tr style=\"text-align: right;\">\n",
       "      <th></th>\n",
       "      <th>FB</th>\n",
       "      <th>TWTR</th>\n",
       "      <th>SCNW</th>\n",
       "    </tr>\n",
       "  </thead>\n",
       "  <tbody>\n",
       "    <tr>\n",
       "      <th>Closing price</th>\n",
       "      <td>61.48</td>\n",
       "      <td>65.25</td>\n",
       "      <td>NaN</td>\n",
       "    </tr>\n",
       "    <tr>\n",
       "      <th>EPS</th>\n",
       "      <td>0.59</td>\n",
       "      <td>-0.30</td>\n",
       "      <td>NaN</td>\n",
       "    </tr>\n",
       "    <tr>\n",
       "      <th>Shares Outstanding (M)</th>\n",
       "      <td>NaN</td>\n",
       "      <td>NaN</td>\n",
       "      <td>NaN</td>\n",
       "    </tr>\n",
       "    <tr>\n",
       "      <th>P/E</th>\n",
       "      <td>104.93</td>\n",
       "      <td>NaN</td>\n",
       "      <td>NaN</td>\n",
       "    </tr>\n",
       "    <tr>\n",
       "      <th>Market Cap(B)</th>\n",
       "      <td>150.92</td>\n",
       "      <td>36.23</td>\n",
       "      <td>NaN</td>\n",
       "    </tr>\n",
       "    <tr>\n",
       "      <th>Beta</th>\n",
       "      <td>NaN</td>\n",
       "      <td>NaN</td>\n",
       "      <td>NaN</td>\n",
       "    </tr>\n",
       "  </tbody>\n",
       "</table>\n",
       "</div>"
      ],
      "text/plain": [
       "                            FB   TWTR SCNW\n",
       "Closing price            61.48  65.25  NaN\n",
       "EPS                       0.59  -0.30  NaN\n",
       "Shares Outstanding (M)     NaN    NaN  NaN\n",
       "P/E                     104.93    NaN  NaN\n",
       "Market Cap(B)           150.92  36.23  NaN\n",
       "Beta                       NaN    NaN  NaN"
      ]
     },
     "execution_count": 40,
     "metadata": {},
     "output_type": "execute_result"
    }
   ],
   "source": [
    "stockDF_1 =pd.DataFrame(stockSummaries,index =['Closing price','EPS','Shares Outstanding (M)',\n",
    "                                             'P/E','Market Cap(B)','Beta'],columns =['FB','TWTR','SCNW'])\n",
    "stockDF_1"
   ]
  },
  {
   "cell_type": "code",
   "execution_count": 43,
   "id": "189a74a4-dd53-4a87-87af-d5e3196c8f2d",
   "metadata": {},
   "outputs": [
    {
     "data": {
      "text/plain": [
       "Index(['Closing price', 'EPS', 'Shares Outstanding (M)', 'P/E',\n",
       "       'Market Cap(B)', 'Beta'],\n",
       "      dtype='object')"
      ]
     },
     "execution_count": 43,
     "metadata": {},
     "output_type": "execute_result"
    }
   ],
   "source": [
    "stockDF.index"
   ]
  },
  {
   "cell_type": "code",
   "execution_count": 44,
   "id": "52c118f1-38d9-40e7-8d28-5832efc73382",
   "metadata": {},
   "outputs": [
    {
     "data": {
      "text/plain": [
       "Index(['AMZN', 'GOOG', 'FB', 'YHOO', 'TWTR', 'AAPL'], dtype='object')"
      ]
     },
     "execution_count": 44,
     "metadata": {},
     "output_type": "execute_result"
    }
   ],
   "source": [
    "stockDF.columns"
   ]
  },
  {
   "cell_type": "markdown",
   "id": "6c8cddad-1415-45de-b04f-e27c51f2b9a9",
   "metadata": {},
   "source": [
    "### Using a Dictionary of ndarrays/lists"
   ]
  },
  {
   "cell_type": "code",
   "execution_count": 50,
   "id": "500227a0-7b97-4195-8db7-40b45c4ca605",
   "metadata": {},
   "outputs": [
    {
     "data": {
      "text/html": [
       "<div>\n",
       "<style scoped>\n",
       "    .dataframe tbody tr th:only-of-type {\n",
       "        vertical-align: middle;\n",
       "    }\n",
       "\n",
       "    .dataframe tbody tr th {\n",
       "        vertical-align: top;\n",
       "    }\n",
       "\n",
       "    .dataframe thead th {\n",
       "        text-align: right;\n",
       "    }\n",
       "</style>\n",
       "<table border=\"1\" class=\"dataframe\">\n",
       "  <thead>\n",
       "    <tr style=\"text-align: right;\">\n",
       "      <th></th>\n",
       "      <th>search</th>\n",
       "      <th>sorting</th>\n",
       "      <th>machine learning</th>\n",
       "    </tr>\n",
       "  </thead>\n",
       "  <tbody>\n",
       "    <tr>\n",
       "      <th>0</th>\n",
       "      <td>DFS</td>\n",
       "      <td>Quicksort</td>\n",
       "      <td>RandomForest</td>\n",
       "    </tr>\n",
       "    <tr>\n",
       "      <th>1</th>\n",
       "      <td>BFS</td>\n",
       "      <td>Mergesort</td>\n",
       "      <td>K Nearest Neighbor</td>\n",
       "    </tr>\n",
       "    <tr>\n",
       "      <th>2</th>\n",
       "      <td>Binary Search</td>\n",
       "      <td>Heapsort</td>\n",
       "      <td>Logistic Regression</td>\n",
       "    </tr>\n",
       "    <tr>\n",
       "      <th>3</th>\n",
       "      <td>Linear</td>\n",
       "      <td>Bubble Sort</td>\n",
       "      <td>K-Means Clustering</td>\n",
       "    </tr>\n",
       "    <tr>\n",
       "      <th>4</th>\n",
       "      <td>ShortestPath (Djikstra)</td>\n",
       "      <td>Insertion Sort</td>\n",
       "      <td>Linear Regression</td>\n",
       "    </tr>\n",
       "  </tbody>\n",
       "</table>\n",
       "</div>"
      ],
      "text/plain": [
       "                    search         sorting     machine learning\n",
       "0                      DFS       Quicksort         RandomForest\n",
       "1                      BFS       Mergesort   K Nearest Neighbor\n",
       "2            Binary Search        Heapsort  Logistic Regression\n",
       "3                   Linear     Bubble Sort   K-Means Clustering\n",
       "4  ShortestPath (Djikstra)  Insertion Sort    Linear Regression"
      ]
     },
     "execution_count": 50,
     "metadata": {},
     "output_type": "execute_result"
    }
   ],
   "source": [
    "algos={'search':['DFS','BFS','Binary Search',\n",
    " 'Linear','ShortestPath (Djikstra)'],\n",
    " 'sorting': ['Quicksort','Mergesort', 'Heapsort',\n",
    " 'Bubble Sort', 'Insertion Sort'],\n",
    " 'machine learning':['RandomForest',\n",
    " 'K Nearest Neighbor',\n",
    " 'Logistic Regression',\n",
    " 'K-Means Clustering',\n",
    " 'Linear Regression']}\n",
    "algoDF =pd.DataFrame(algos)\n",
    "algoDF"
   ]
  },
  {
   "cell_type": "markdown",
   "id": "e385a60e-ae50-43b8-ac14-c5642d398117",
   "metadata": {},
   "source": [
    "#### Defining Index"
   ]
  },
  {
   "cell_type": "code",
   "execution_count": 53,
   "id": "943b9526-f6ae-4f3b-9b9c-1e94ef79b0c3",
   "metadata": {},
   "outputs": [
    {
     "data": {
      "text/html": [
       "<div>\n",
       "<style scoped>\n",
       "    .dataframe tbody tr th:only-of-type {\n",
       "        vertical-align: middle;\n",
       "    }\n",
       "\n",
       "    .dataframe tbody tr th {\n",
       "        vertical-align: top;\n",
       "    }\n",
       "\n",
       "    .dataframe thead th {\n",
       "        text-align: right;\n",
       "    }\n",
       "</style>\n",
       "<table border=\"1\" class=\"dataframe\">\n",
       "  <thead>\n",
       "    <tr style=\"text-align: right;\">\n",
       "      <th></th>\n",
       "      <th>search</th>\n",
       "      <th>sorting</th>\n",
       "      <th>machine learning</th>\n",
       "    </tr>\n",
       "  </thead>\n",
       "  <tbody>\n",
       "    <tr>\n",
       "      <th>algo_1</th>\n",
       "      <td>DFS</td>\n",
       "      <td>Quicksort</td>\n",
       "      <td>RandomForest</td>\n",
       "    </tr>\n",
       "    <tr>\n",
       "      <th>algo_2</th>\n",
       "      <td>BFS</td>\n",
       "      <td>Mergesort</td>\n",
       "      <td>K Nearest Neighbor</td>\n",
       "    </tr>\n",
       "    <tr>\n",
       "      <th>algo_3</th>\n",
       "      <td>Binary Search</td>\n",
       "      <td>Heapsort</td>\n",
       "      <td>Logistic Regression</td>\n",
       "    </tr>\n",
       "    <tr>\n",
       "      <th>algo_4</th>\n",
       "      <td>Linear</td>\n",
       "      <td>Bubble Sort</td>\n",
       "      <td>K-Means Clustering</td>\n",
       "    </tr>\n",
       "    <tr>\n",
       "      <th>algo_5</th>\n",
       "      <td>ShortestPath (Djikstra)</td>\n",
       "      <td>Insertion Sort</td>\n",
       "      <td>Linear Regression</td>\n",
       "    </tr>\n",
       "  </tbody>\n",
       "</table>\n",
       "</div>"
      ],
      "text/plain": [
       "                         search         sorting     machine learning\n",
       "algo_1                      DFS       Quicksort         RandomForest\n",
       "algo_2                      BFS       Mergesort   K Nearest Neighbor\n",
       "algo_3            Binary Search        Heapsort  Logistic Regression\n",
       "algo_4                   Linear     Bubble Sort   K-Means Clustering\n",
       "algo_5  ShortestPath (Djikstra)  Insertion Sort    Linear Regression"
      ]
     },
     "execution_count": 53,
     "metadata": {},
     "output_type": "execute_result"
    }
   ],
   "source": [
    "pd.DataFrame(algos,index =['algo_1','algo_2','algo_3','algo_4','algo_5'])"
   ]
  },
  {
   "cell_type": "markdown",
   "id": "6ad151b6-62dd-4c7b-8ecb-2b68b5a24bc8",
   "metadata": {},
   "source": [
    "### From a Sturctured array"
   ]
  },
  {
   "cell_type": "code",
   "execution_count": 62,
   "id": "c3edb3b0-5e02-44e0-8631-5a0088a6d57a",
   "metadata": {},
   "outputs": [
    {
     "data": {
      "text/html": [
       "<div>\n",
       "<style scoped>\n",
       "    .dataframe tbody tr th:only-of-type {\n",
       "        vertical-align: middle;\n",
       "    }\n",
       "\n",
       "    .dataframe tbody tr th {\n",
       "        vertical-align: top;\n",
       "    }\n",
       "\n",
       "    .dataframe thead th {\n",
       "        text-align: right;\n",
       "    }\n",
       "</style>\n",
       "<table border=\"1\" class=\"dataframe\">\n",
       "  <thead>\n",
       "    <tr style=\"text-align: right;\">\n",
       "      <th></th>\n",
       "      <th>Name</th>\n",
       "      <th>Age</th>\n",
       "      <th>Weight</th>\n",
       "    </tr>\n",
       "  </thead>\n",
       "  <tbody>\n",
       "    <tr>\n",
       "      <th>0</th>\n",
       "      <td>Sanjeev</td>\n",
       "      <td>37</td>\n",
       "      <td>162.3750</td>\n",
       "    </tr>\n",
       "    <tr>\n",
       "      <th>1</th>\n",
       "      <td>Yingluck</td>\n",
       "      <td>45</td>\n",
       "      <td>137.7500</td>\n",
       "    </tr>\n",
       "    <tr>\n",
       "      <th>2</th>\n",
       "      <td>Emeka</td>\n",
       "      <td>28</td>\n",
       "      <td>153.2500</td>\n",
       "    </tr>\n",
       "    <tr>\n",
       "      <th>3</th>\n",
       "      <td>Amy</td>\n",
       "      <td>67</td>\n",
       "      <td>101.3125</td>\n",
       "    </tr>\n",
       "  </tbody>\n",
       "</table>\n",
       "</div>"
      ],
      "text/plain": [
       "       Name  Age    Weight\n",
       "0   Sanjeev   37  162.3750\n",
       "1  Yingluck   45  137.7500\n",
       "2     Emeka   28  153.2500\n",
       "3       Amy   67  101.3125"
      ]
     },
     "execution_count": 62,
     "metadata": {},
     "output_type": "execute_result"
    }
   ],
   "source": [
    "memberData = np.zeros((4,),dtype=[('Name','<U15'), ('Age','i4'), ('Weight','f2')])\n",
    "\n",
    "memberData[:] = [('Sanjeev',37,162.4),('Yingluck',45,137.8),\n",
    " ('Emeka',28,153.2),\n",
    " ('Amy',67,101.3)]\n",
    "memberDF =pd.DataFrame(memberData)\n",
    "memberDF"
   ]
  },
  {
   "cell_type": "code",
   "execution_count": 64,
   "id": "073e440e-9ff7-46e2-b99a-8b91eafb3260",
   "metadata": {},
   "outputs": [
    {
     "data": {
      "text/html": [
       "<div>\n",
       "<style scoped>\n",
       "    .dataframe tbody tr th:only-of-type {\n",
       "        vertical-align: middle;\n",
       "    }\n",
       "\n",
       "    .dataframe tbody tr th {\n",
       "        vertical-align: top;\n",
       "    }\n",
       "\n",
       "    .dataframe thead th {\n",
       "        text-align: right;\n",
       "    }\n",
       "</style>\n",
       "<table border=\"1\" class=\"dataframe\">\n",
       "  <thead>\n",
       "    <tr style=\"text-align: right;\">\n",
       "      <th></th>\n",
       "      <th>Name</th>\n",
       "      <th>Age</th>\n",
       "      <th>Weight</th>\n",
       "    </tr>\n",
       "  </thead>\n",
       "  <tbody>\n",
       "    <tr>\n",
       "      <th>a</th>\n",
       "      <td>Sanjeev</td>\n",
       "      <td>37</td>\n",
       "      <td>162.3750</td>\n",
       "    </tr>\n",
       "    <tr>\n",
       "      <th>b</th>\n",
       "      <td>Yingluck</td>\n",
       "      <td>45</td>\n",
       "      <td>137.7500</td>\n",
       "    </tr>\n",
       "    <tr>\n",
       "      <th>c</th>\n",
       "      <td>Emeka</td>\n",
       "      <td>28</td>\n",
       "      <td>153.2500</td>\n",
       "    </tr>\n",
       "    <tr>\n",
       "      <th>d</th>\n",
       "      <td>Amy</td>\n",
       "      <td>67</td>\n",
       "      <td>101.3125</td>\n",
       "    </tr>\n",
       "  </tbody>\n",
       "</table>\n",
       "</div>"
      ],
      "text/plain": [
       "       Name  Age    Weight\n",
       "a   Sanjeev   37  162.3750\n",
       "b  Yingluck   45  137.7500\n",
       "c     Emeka   28  153.2500\n",
       "d       Amy   67  101.3125"
      ]
     },
     "execution_count": 64,
     "metadata": {},
     "output_type": "execute_result"
    }
   ],
   "source": [
    "pd.DataFrame(memberData,index =['a','b','c','d'])"
   ]
  },
  {
   "cell_type": "code",
   "execution_count": 72,
   "id": "a105429f-739a-457d-afa7-5a586b4b7169",
   "metadata": {},
   "outputs": [
    {
     "data": {
      "text/html": [
       "<div>\n",
       "<style scoped>\n",
       "    .dataframe tbody tr th:only-of-type {\n",
       "        vertical-align: middle;\n",
       "    }\n",
       "\n",
       "    .dataframe tbody tr th {\n",
       "        vertical-align: top;\n",
       "    }\n",
       "\n",
       "    .dataframe thead th {\n",
       "        text-align: right;\n",
       "    }\n",
       "</style>\n",
       "<table border=\"1\" class=\"dataframe\">\n",
       "  <thead>\n",
       "    <tr style=\"text-align: right;\">\n",
       "      <th></th>\n",
       "      <th>currency</th>\n",
       "    </tr>\n",
       "  </thead>\n",
       "  <tbody>\n",
       "    <tr>\n",
       "      <th>US</th>\n",
       "      <td>dollar</td>\n",
       "    </tr>\n",
       "    <tr>\n",
       "      <th>UK</th>\n",
       "      <td>pound</td>\n",
       "    </tr>\n",
       "    <tr>\n",
       "      <th>Germany</th>\n",
       "      <td>euro</td>\n",
       "    </tr>\n",
       "    <tr>\n",
       "      <th>Mexico</th>\n",
       "      <td>peso</td>\n",
       "    </tr>\n",
       "    <tr>\n",
       "      <th>Nigeria</th>\n",
       "      <td>Naira</td>\n",
       "    </tr>\n",
       "    <tr>\n",
       "      <th>China</th>\n",
       "      <td>yuan</td>\n",
       "    </tr>\n",
       "    <tr>\n",
       "      <th>Japan</th>\n",
       "      <td>yen</td>\n",
       "    </tr>\n",
       "  </tbody>\n",
       "</table>\n",
       "</div>"
      ],
      "text/plain": [
       "        currency\n",
       "US        dollar\n",
       "UK         pound\n",
       "Germany     euro\n",
       "Mexico      peso\n",
       "Nigeria    Naira\n",
       "China       yuan\n",
       "Japan        yen"
      ]
     },
     "execution_count": 72,
     "metadata": {},
     "output_type": "execute_result"
    }
   ],
   "source": [
    "currSeries.name ='currency'\n",
    "pd.DataFrame(currSeries)"
   ]
  },
  {
   "cell_type": "markdown",
   "id": "51493513-b67e-4196-9631-e9accc87d0c1",
   "metadata": {},
   "source": [
    "### Operations on DataFrame"
   ]
  },
  {
   "cell_type": "code",
   "execution_count": 78,
   "id": "12c3b878-6c44-482c-b540-74e9a7a83641",
   "metadata": {},
   "outputs": [
    {
     "data": {
      "text/html": [
       "<div>\n",
       "<style scoped>\n",
       "    .dataframe tbody tr th:only-of-type {\n",
       "        vertical-align: middle;\n",
       "    }\n",
       "\n",
       "    .dataframe tbody tr th {\n",
       "        vertical-align: top;\n",
       "    }\n",
       "\n",
       "    .dataframe thead th {\n",
       "        text-align: right;\n",
       "    }\n",
       "</style>\n",
       "<table border=\"1\" class=\"dataframe\">\n",
       "  <thead>\n",
       "    <tr style=\"text-align: right;\">\n",
       "      <th></th>\n",
       "      <th>Name</th>\n",
       "      <th>Age</th>\n",
       "      <th>Weight</th>\n",
       "      <th>Height</th>\n",
       "    </tr>\n",
       "  </thead>\n",
       "  <tbody>\n",
       "    <tr>\n",
       "      <th>0</th>\n",
       "      <td>Sanjeev</td>\n",
       "      <td>37</td>\n",
       "      <td>162.3750</td>\n",
       "      <td>60</td>\n",
       "    </tr>\n",
       "    <tr>\n",
       "      <th>1</th>\n",
       "      <td>Yingluck</td>\n",
       "      <td>45</td>\n",
       "      <td>137.7500</td>\n",
       "      <td>60</td>\n",
       "    </tr>\n",
       "    <tr>\n",
       "      <th>2</th>\n",
       "      <td>Emeka</td>\n",
       "      <td>28</td>\n",
       "      <td>153.2500</td>\n",
       "      <td>60</td>\n",
       "    </tr>\n",
       "    <tr>\n",
       "      <th>3</th>\n",
       "      <td>Amy</td>\n",
       "      <td>67</td>\n",
       "      <td>101.3125</td>\n",
       "      <td>60</td>\n",
       "    </tr>\n",
       "  </tbody>\n",
       "</table>\n",
       "</div>"
      ],
      "text/plain": [
       "       Name  Age    Weight  Height\n",
       "0   Sanjeev   37  162.3750      60\n",
       "1  Yingluck   45  137.7500      60\n",
       "2     Emeka   28  153.2500      60\n",
       "3       Amy   67  101.3125      60"
      ]
     },
     "execution_count": 78,
     "metadata": {},
     "output_type": "execute_result"
    }
   ],
   "source": [
    "memberDF"
   ]
  },
  {
   "cell_type": "markdown",
   "id": "1ab87135-55dd-4a14-94a4-abd751363e79",
   "metadata": {},
   "source": [
    "#### Assignment Operation"
   ]
  },
  {
   "cell_type": "code",
   "execution_count": 88,
   "id": "277435a8-6ed2-41dd-a334-03b9532dd1b9",
   "metadata": {},
   "outputs": [
    {
     "data": {
      "text/html": [
       "<div>\n",
       "<style scoped>\n",
       "    .dataframe tbody tr th:only-of-type {\n",
       "        vertical-align: middle;\n",
       "    }\n",
       "\n",
       "    .dataframe tbody tr th {\n",
       "        vertical-align: top;\n",
       "    }\n",
       "\n",
       "    .dataframe thead th {\n",
       "        text-align: right;\n",
       "    }\n",
       "</style>\n",
       "<table border=\"1\" class=\"dataframe\">\n",
       "  <thead>\n",
       "    <tr style=\"text-align: right;\">\n",
       "      <th></th>\n",
       "      <th>Name</th>\n",
       "      <th>Age</th>\n",
       "      <th>isSenior</th>\n",
       "      <th>Weight</th>\n",
       "      <th>Height</th>\n",
       "    </tr>\n",
       "  </thead>\n",
       "  <tbody>\n",
       "    <tr>\n",
       "      <th>0</th>\n",
       "      <td>Sanjeev</td>\n",
       "      <td>37</td>\n",
       "      <td>False</td>\n",
       "      <td>162.3750</td>\n",
       "      <td>60</td>\n",
       "    </tr>\n",
       "    <tr>\n",
       "      <th>1</th>\n",
       "      <td>Yingluck</td>\n",
       "      <td>45</td>\n",
       "      <td>False</td>\n",
       "      <td>137.7500</td>\n",
       "      <td>60</td>\n",
       "    </tr>\n",
       "    <tr>\n",
       "      <th>2</th>\n",
       "      <td>Emeka</td>\n",
       "      <td>28</td>\n",
       "      <td>False</td>\n",
       "      <td>153.2500</td>\n",
       "      <td>60</td>\n",
       "    </tr>\n",
       "    <tr>\n",
       "      <th>3</th>\n",
       "      <td>Amy</td>\n",
       "      <td>67</td>\n",
       "      <td>True</td>\n",
       "      <td>101.3125</td>\n",
       "      <td>60</td>\n",
       "    </tr>\n",
       "  </tbody>\n",
       "</table>\n",
       "</div>"
      ],
      "text/plain": [
       "       Name  Age  isSenior    Weight  Height\n",
       "0   Sanjeev   37     False  162.3750      60\n",
       "1  Yingluck   45     False  137.7500      60\n",
       "2     Emeka   28     False  153.2500      60\n",
       "3       Amy   67      True  101.3125      60"
      ]
     },
     "execution_count": 88,
     "metadata": {},
     "output_type": "execute_result"
    }
   ],
   "source": [
    "memberDF['Height']=60\n",
    "memberDF"
   ]
  },
  {
   "cell_type": "markdown",
   "id": "1cd97ab4-d1ae-4f46-8035-9d1d8d62fa88",
   "metadata": {},
   "source": [
    "#### Deletion Operation"
   ]
  },
  {
   "cell_type": "code",
   "execution_count": 96,
   "id": "3f901f45-46aa-4d80-97a7-ef0af0eb9e43",
   "metadata": {},
   "outputs": [
    {
     "data": {
      "text/html": [
       "<div>\n",
       "<style scoped>\n",
       "    .dataframe tbody tr th:only-of-type {\n",
       "        vertical-align: middle;\n",
       "    }\n",
       "\n",
       "    .dataframe tbody tr th {\n",
       "        vertical-align: top;\n",
       "    }\n",
       "\n",
       "    .dataframe thead th {\n",
       "        text-align: right;\n",
       "    }\n",
       "</style>\n",
       "<table border=\"1\" class=\"dataframe\">\n",
       "  <thead>\n",
       "    <tr style=\"text-align: right;\">\n",
       "      <th></th>\n",
       "      <th>Name</th>\n",
       "      <th>Age</th>\n",
       "      <th>Weight</th>\n",
       "    </tr>\n",
       "  </thead>\n",
       "  <tbody>\n",
       "    <tr>\n",
       "      <th>0</th>\n",
       "      <td>Sanjeev</td>\n",
       "      <td>37</td>\n",
       "      <td>162.3750</td>\n",
       "    </tr>\n",
       "    <tr>\n",
       "      <th>1</th>\n",
       "      <td>Yingluck</td>\n",
       "      <td>45</td>\n",
       "      <td>137.7500</td>\n",
       "    </tr>\n",
       "    <tr>\n",
       "      <th>2</th>\n",
       "      <td>Emeka</td>\n",
       "      <td>28</td>\n",
       "      <td>153.2500</td>\n",
       "    </tr>\n",
       "    <tr>\n",
       "      <th>3</th>\n",
       "      <td>Amy</td>\n",
       "      <td>67</td>\n",
       "      <td>101.3125</td>\n",
       "    </tr>\n",
       "  </tbody>\n",
       "</table>\n",
       "</div>"
      ],
      "text/plain": [
       "       Name  Age    Weight\n",
       "0   Sanjeev   37  162.3750\n",
       "1  Yingluck   45  137.7500\n",
       "2     Emeka   28  153.2500\n",
       "3       Amy   67  101.3125"
      ]
     },
     "execution_count": 96,
     "metadata": {},
     "output_type": "execute_result"
    }
   ],
   "source": [
    "del memberDF['isSenior'];\n",
    "memberDF"
   ]
  },
  {
   "cell_type": "markdown",
   "id": "5ee19ca5-9b14-4e13-a200-8729af3e07e2",
   "metadata": {},
   "source": [
    "#### Column Inserted at the end; to insert a column at a specific location"
   ]
  },
  {
   "cell_type": "code",
   "execution_count": 97,
   "id": "a2f71406-8b7a-4da6-b19a-99416cb127ae",
   "metadata": {},
   "outputs": [
    {
     "data": {
      "text/html": [
       "<div>\n",
       "<style scoped>\n",
       "    .dataframe tbody tr th:only-of-type {\n",
       "        vertical-align: middle;\n",
       "    }\n",
       "\n",
       "    .dataframe tbody tr th {\n",
       "        vertical-align: top;\n",
       "    }\n",
       "\n",
       "    .dataframe thead th {\n",
       "        text-align: right;\n",
       "    }\n",
       "</style>\n",
       "<table border=\"1\" class=\"dataframe\">\n",
       "  <thead>\n",
       "    <tr style=\"text-align: right;\">\n",
       "      <th></th>\n",
       "      <th>Name</th>\n",
       "      <th>Age</th>\n",
       "      <th>isSenior</th>\n",
       "      <th>Weight</th>\n",
       "    </tr>\n",
       "  </thead>\n",
       "  <tbody>\n",
       "    <tr>\n",
       "      <th>0</th>\n",
       "      <td>Sanjeev</td>\n",
       "      <td>37</td>\n",
       "      <td>False</td>\n",
       "      <td>162.3750</td>\n",
       "    </tr>\n",
       "    <tr>\n",
       "      <th>1</th>\n",
       "      <td>Yingluck</td>\n",
       "      <td>45</td>\n",
       "      <td>False</td>\n",
       "      <td>137.7500</td>\n",
       "    </tr>\n",
       "    <tr>\n",
       "      <th>2</th>\n",
       "      <td>Emeka</td>\n",
       "      <td>28</td>\n",
       "      <td>False</td>\n",
       "      <td>153.2500</td>\n",
       "    </tr>\n",
       "    <tr>\n",
       "      <th>3</th>\n",
       "      <td>Amy</td>\n",
       "      <td>67</td>\n",
       "      <td>True</td>\n",
       "      <td>101.3125</td>\n",
       "    </tr>\n",
       "  </tbody>\n",
       "</table>\n",
       "</div>"
      ],
      "text/plain": [
       "       Name  Age  isSenior    Weight\n",
       "0   Sanjeev   37     False  162.3750\n",
       "1  Yingluck   45     False  137.7500\n",
       "2     Emeka   28     False  153.2500\n",
       "3       Amy   67      True  101.3125"
      ]
     },
     "execution_count": 97,
     "metadata": {},
     "output_type": "execute_result"
    }
   ],
   "source": [
    "memberDF.insert(2,'isSenior',memberDF['Age']>60)\n",
    "memberDF"
   ]
  },
  {
   "cell_type": "markdown",
   "id": "989594b8-af51-4a5e-81d8-e5fa5227aaa9",
   "metadata": {},
   "source": [
    "#### Alignment"
   ]
  },
  {
   "cell_type": "code",
   "execution_count": 105,
   "id": "cc4daf8f-dd62-4f38-906a-83a9789647fd",
   "metadata": {},
   "outputs": [
    {
     "data": {
      "text/html": [
       "<div>\n",
       "<style scoped>\n",
       "    .dataframe tbody tr th:only-of-type {\n",
       "        vertical-align: middle;\n",
       "    }\n",
       "\n",
       "    .dataframe tbody tr th {\n",
       "        vertical-align: top;\n",
       "    }\n",
       "\n",
       "    .dataframe thead th {\n",
       "        text-align: right;\n",
       "    }\n",
       "</style>\n",
       "<table border=\"1\" class=\"dataframe\">\n",
       "  <thead>\n",
       "    <tr style=\"text-align: right;\">\n",
       "      <th></th>\n",
       "      <th>iron</th>\n",
       "      <th>magnesium</th>\n",
       "      <th>copper</th>\n",
       "      <th>silver</th>\n",
       "    </tr>\n",
       "  </thead>\n",
       "  <tbody>\n",
       "    <tr>\n",
       "      <th>0</th>\n",
       "      <td>20</td>\n",
       "      <td>35</td>\n",
       "      <td>25</td>\n",
       "      <td>20</td>\n",
       "    </tr>\n",
       "    <tr>\n",
       "      <th>1</th>\n",
       "      <td>11</td>\n",
       "      <td>28</td>\n",
       "      <td>32</td>\n",
       "      <td>29</td>\n",
       "    </tr>\n",
       "  </tbody>\n",
       "</table>\n",
       "</div>"
      ],
      "text/plain": [
       "   iron  magnesium  copper  silver\n",
       "0    20         35      25      20\n",
       "1    11         28      32      29"
      ]
     },
     "execution_count": 105,
     "metadata": {},
     "output_type": "execute_result"
    }
   ],
   "source": [
    "ore1DF=pd.DataFrame(np.array([[20,35,25,20],\n",
    " [11,28,32,29]]),\n",
    "columns=['iron','magnesium',\n",
    " 'copper','silver'])\n",
    "ore2DF=pd.DataFrame(np.array([[14,34,26,26],\n",
    " [33,19,25,23]]),\n",
    " columns=['iron','magnesium',\n",
    " 'gold','silver'])\n",
    "ore1DF"
   ]
  },
  {
   "cell_type": "code",
   "execution_count": 107,
   "id": "43e1a092-f21b-42d3-ac8c-2982bae7e5a6",
   "metadata": {},
   "outputs": [
    {
     "data": {
      "text/html": [
       "<div>\n",
       "<style scoped>\n",
       "    .dataframe tbody tr th:only-of-type {\n",
       "        vertical-align: middle;\n",
       "    }\n",
       "\n",
       "    .dataframe tbody tr th {\n",
       "        vertical-align: top;\n",
       "    }\n",
       "\n",
       "    .dataframe thead th {\n",
       "        text-align: right;\n",
       "    }\n",
       "</style>\n",
       "<table border=\"1\" class=\"dataframe\">\n",
       "  <thead>\n",
       "    <tr style=\"text-align: right;\">\n",
       "      <th></th>\n",
       "      <th>iron</th>\n",
       "      <th>magnesium</th>\n",
       "      <th>gold</th>\n",
       "      <th>silver</th>\n",
       "    </tr>\n",
       "  </thead>\n",
       "  <tbody>\n",
       "    <tr>\n",
       "      <th>0</th>\n",
       "      <td>14</td>\n",
       "      <td>34</td>\n",
       "      <td>26</td>\n",
       "      <td>26</td>\n",
       "    </tr>\n",
       "    <tr>\n",
       "      <th>1</th>\n",
       "      <td>33</td>\n",
       "      <td>19</td>\n",
       "      <td>25</td>\n",
       "      <td>23</td>\n",
       "    </tr>\n",
       "  </tbody>\n",
       "</table>\n",
       "</div>"
      ],
      "text/plain": [
       "   iron  magnesium  gold  silver\n",
       "0    14         34    26      26\n",
       "1    33         19    25      23"
      ]
     },
     "execution_count": 107,
     "metadata": {},
     "output_type": "execute_result"
    }
   ],
   "source": [
    "ore2DF"
   ]
  },
  {
   "cell_type": "code",
   "execution_count": 109,
   "id": "c300dfa5-aaca-4ed3-8a5d-55af2275a84e",
   "metadata": {},
   "outputs": [
    {
     "data": {
      "text/html": [
       "<div>\n",
       "<style scoped>\n",
       "    .dataframe tbody tr th:only-of-type {\n",
       "        vertical-align: middle;\n",
       "    }\n",
       "\n",
       "    .dataframe tbody tr th {\n",
       "        vertical-align: top;\n",
       "    }\n",
       "\n",
       "    .dataframe thead th {\n",
       "        text-align: right;\n",
       "    }\n",
       "</style>\n",
       "<table border=\"1\" class=\"dataframe\">\n",
       "  <thead>\n",
       "    <tr style=\"text-align: right;\">\n",
       "      <th></th>\n",
       "      <th>copper</th>\n",
       "      <th>gold</th>\n",
       "      <th>iron</th>\n",
       "      <th>magnesium</th>\n",
       "      <th>silver</th>\n",
       "    </tr>\n",
       "  </thead>\n",
       "  <tbody>\n",
       "    <tr>\n",
       "      <th>0</th>\n",
       "      <td>NaN</td>\n",
       "      <td>NaN</td>\n",
       "      <td>34</td>\n",
       "      <td>69</td>\n",
       "      <td>46</td>\n",
       "    </tr>\n",
       "    <tr>\n",
       "      <th>1</th>\n",
       "      <td>NaN</td>\n",
       "      <td>NaN</td>\n",
       "      <td>44</td>\n",
       "      <td>47</td>\n",
       "      <td>52</td>\n",
       "    </tr>\n",
       "  </tbody>\n",
       "</table>\n",
       "</div>"
      ],
      "text/plain": [
       "   copper  gold  iron  magnesium  silver\n",
       "0     NaN   NaN    34         69      46\n",
       "1     NaN   NaN    44         47      52"
      ]
     },
     "execution_count": 109,
     "metadata": {},
     "output_type": "execute_result"
    }
   ],
   "source": [
    "ore2DF + ore1DF"
   ]
  },
  {
   "cell_type": "markdown",
   "id": "5ab978d4-a835-4cc8-93b5-2751e27f36b3",
   "metadata": {},
   "source": [
    "#### Other mathematical operations"
   ]
  },
  {
   "cell_type": "code",
   "execution_count": 112,
   "id": "4a34d450-2b8c-44ef-bdaf-1b379afbf90e",
   "metadata": {},
   "outputs": [
    {
     "data": {
      "text/plain": [
       "(       iron  magnesium     gold    silver\n",
       " 0  3.741657   5.830952  5.09902  5.099020\n",
       " 1  5.744563   4.358899  5.00000  4.795832,\n",
       "        iron  magnesium    copper    silver\n",
       " 0  4.472136   5.916080  5.000000  4.472136\n",
       " 1  3.316625   5.291503  5.656854  5.385165)"
      ]
     },
     "execution_count": 112,
     "metadata": {},
     "output_type": "execute_result"
    }
   ],
   "source": [
    "np.sqrt(ore2DF),np.sqrt(ore1DF)"
   ]
  },
  {
   "cell_type": "code",
   "execution_count": null,
   "id": "fa86765f-21b1-4425-a8dc-6ca9d0cfdcb8",
   "metadata": {},
   "outputs": [],
   "source": []
  }
 ],
 "metadata": {
  "kernelspec": {
   "display_name": "Python 3 (ipykernel)",
   "language": "python",
   "name": "python3"
  },
  "language_info": {
   "codemirror_mode": {
    "name": "ipython",
    "version": 3
   },
   "file_extension": ".py",
   "mimetype": "text/x-python",
   "name": "python",
   "nbconvert_exporter": "python",
   "pygments_lexer": "ipython3",
   "version": "3.9.9"
  },
  "toc-autonumbering": false,
  "toc-showcode": false
 },
 "nbformat": 4,
 "nbformat_minor": 5
}
